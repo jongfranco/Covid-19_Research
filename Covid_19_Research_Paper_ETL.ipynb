{
  "nbformat": 4,
  "nbformat_minor": 0,
  "metadata": {
    "colab": {
      "name": "Covid-19 Research Paper ETL",
      "provenance": [],
      "toc_visible": true,
      "mount_file_id": "1E7chur-YcPdoZ3UEDZYo0R7HTCZGi-1K",
      "authorship_tag": "ABX9TyMqN+AotO4nG60VnYb0oRVW",
      "include_colab_link": true
    },
    "kernelspec": {
      "name": "python3",
      "display_name": "Python 3"
    }
  },
  "cells": [
    {
      "cell_type": "markdown",
      "metadata": {
        "id": "view-in-github",
        "colab_type": "text"
      },
      "source": [
        "<a href=\"https://colab.research.google.com/github/nikyan/Covid-19_Research/blob/master/Covid_19_Research_Paper_ETL.ipynb\" target=\"_parent\"><img src=\"https://colab.research.google.com/assets/colab-badge.svg\" alt=\"Open In Colab\"/></a>"
      ]
    },
    {
      "cell_type": "markdown",
      "metadata": {
        "id": "GSjbDTrRqnyg",
        "colab_type": "text"
      },
      "source": [
        "# Reaseach Paper Data ETL"
      ]
    },
    {
      "cell_type": "markdown",
      "metadata": {
        "id": "3EcWs0X0q0Ux",
        "colab_type": "text"
      },
      "source": [
        "\n",
        "The research paper data is obtained from Allen Intitute's Covid-19 open research data.\n",
        "- https://www.semanticscholar.org/cord19/download\n",
        "---\n",
        "\n"
      ]
    },
    {
      "cell_type": "markdown",
      "metadata": {
        "id": "-4xAg81yrIfV",
        "colab_type": "text"
      },
      "source": [
        "## Import libraries and load datasets.¶\n",
        "\n",
        "- Load pdf.json into a dataframe and inspect the first few lines.\n",
        "- Load pmc.json into a dataframe and inspect the first few lines."
      ]
    },
    {
      "cell_type": "code",
      "metadata": {
        "id": "zhvldk43rECG",
        "colab_type": "code",
        "colab": {}
      },
      "source": [
        "# import libraries\n",
        "import os\n",
        "import pandas as pd\n",
        "import numpy as np\n",
        "import matplotlib.pyplot as plt\n",
        "import json\n",
        "\n",
        "\n",
        "%matplotlib inline"
      ],
      "execution_count": 0,
      "outputs": []
    },
    {
      "cell_type": "markdown",
      "metadata": {
        "id": "GQG6kEHOrULr",
        "colab_type": "text"
      },
      "source": [
        "## Read and assess data"
      ]
    },
    {
      "cell_type": "code",
      "metadata": {
        "id": "_n-krA_IrWiz",
        "colab_type": "code",
        "colab": {}
      },
      "source": [
        "### \n",
        "#   This cell loads a function that prints the first n lines of\n",
        "#   a file.\n",
        "#\n",
        "#   Then this function is called on the JSON file to print out\n",
        "#   the first line of one of the research paper's json file\n",
        "###\n",
        "\n",
        "def print_lines(n, file_name):\n",
        "    f = open(file_name)\n",
        "    for i in range(n):\n",
        "        print(f.readline())\n",
        "    f.close()"
      ],
      "execution_count": 0,
      "outputs": []
    },
    {
      "cell_type": "code",
      "metadata": {
        "id": "T0aZvaj5rpSi",
        "colab_type": "code",
        "colab": {
          "base_uri": "https://localhost:8080/",
          "height": 731
        },
        "outputId": "e7cc9847-cb12-4981-a522-eef984744207"
      },
      "source": [
        "# print first 20 lines of one json file to see the file structure\n",
        "print_lines(20, '/content/drive/My Drive/ML data/AI2 PDFs/0036b28fddf7e93da0970303672934ea2f9944e7.json')"
      ],
      "execution_count": 7,
      "outputs": [
        {
          "output_type": "stream",
          "text": [
            "{\n",
            "\n",
            "    \"paper_id\": \"0036b28fddf7e93da0970303672934ea2f9944e7\",\n",
            "\n",
            "    \"metadata\": {\n",
            "\n",
            "        \"title\": \"The fecal microbiota and unconjugated fecal bile acids in dogs with diabetes mellitus ESCG-O-2 Impact of antibiotic administration on fecal bacterial groups potentially associated with dysbiosis in kittens ESCG-O-3 Fecal microbial metabolism is altered in dogs with chronic enteropathy ESCG-O-4 The pug breed demonstrates a worse response to treatment of protein-losing enteropathy than other breeds of dog ESCG-O-6 Dogs with acute haemorrhagic diarrhoea syndrome not receiving antibiotics have a good prognosis despite initial high AHDS-score and systemic inflammation ESCG-O-7 Faecal bile acid profiles in dogs with acute haemorrhagic diarrhoea syndrome over time and compared to healthy dogs ESCG-O-8 Long-term consequences of acute hemorrhagic diarrhea syndrome in dogs ESVC-O-1 Acute effect of oral pimobendan on left atrial function and mitral valve regurgitation severity in dogs with stage B2 myxomatous mitral valve disease -A pilot study ESVC-O-2 Retrospective evaluation of the safety and tolerability of pimobendan in cats with obstructive versus nonobstructive hypertrophic cardiomyopathy\",\n",
            "\n",
            "        \"authors\": [\n",
            "\n",
            "            {\n",
            "\n",
            "                \"first\": \"B\",\n",
            "\n",
            "                \"middle\": [],\n",
            "\n",
            "                \"last\": \"Ruggerone\",\n",
            "\n",
            "                \"suffix\": \"\",\n",
            "\n",
            "                \"affiliation\": {\n",
            "\n",
            "                    \"laboratory\": \"\",\n",
            "\n",
            "                    \"institution\": \"University of Thessaly\",\n",
            "\n",
            "                    \"location\": {\n",
            "\n",
            "                        \"settlement\": \"Karditsa\",\n",
            "\n",
            "                        \"country\": \"Greece\"\n",
            "\n",
            "                    }\n",
            "\n",
            "                },\n",
            "\n",
            "                \"email\": \"\"\n",
            "\n",
            "            },\n",
            "\n"
          ],
          "name": "stdout"
        }
      ]
    },
    {
      "cell_type": "markdown",
      "metadata": {
        "id": "zqrFXOixrixE",
        "colab_type": "text"
      },
      "source": [
        "## 3. Extract and Load data to a Dataframe"
      ]
    },
    {
      "cell_type": "code",
      "metadata": {
        "id": "NMhnh1BDuZfN",
        "colab_type": "code",
        "colab": {
          "base_uri": "https://localhost:8080/",
          "height": 35
        },
        "outputId": "2d00145f-9747-4ba3-aea8-79b44e029365"
      },
      "source": [
        "# get list of all files in directory\n",
        "directory_in_str = '/content/drive/My Drive/ML data/AI2 PDFs/'\n",
        "directory = os.fsencode(directory_in_str)\n",
        "\n",
        "#get filenames\n",
        "filenames = []\n",
        "for file in os.listdir(directory):\n",
        "    filenames.append(os.fsdecode(file))\n",
        "\n",
        "print(\"Number of files to read: {}\".format(len(filenames)))"
      ],
      "execution_count": 11,
      "outputs": [
        {
          "output_type": "stream",
          "text": [
            "Number of files to read: 4776\n"
          ],
          "name": "stdout"
        }
      ]
    },
    {
      "cell_type": "code",
      "metadata": {
        "id": "jtp6E89EugkM",
        "colab_type": "code",
        "colab": {}
      },
      "source": [
        "# loop through each file to extract data: {paper id, title, body text}\n",
        "d1 = []\n",
        "for file in filenames:\n",
        "    # read in the JSON file\n",
        "    with open('/content/drive/My Drive/ML data/AI2 PDFs/{}'.format(file)) as f:\n",
        "        json_data = json.load(f)\n",
        "    \n",
        "    \n",
        "    #paper_id = {'paper_id': json_data['paper_id']}\n",
        "    #bodytext = {'body_text': json_data['body_text']}\n",
        "    text = \"\"\n",
        "    for i in range(len(json_data['body_text'])):\n",
        "        t = json_data['body_text'][i]['text']\n",
        "        text = text + t\n",
        "    \n",
        "    t_d1 = {'paper_id': json_data['paper_id'], 'title': json_data['metadata']['title'],'text': text}\n",
        "    \n",
        "    d1.append(t_d1)"
      ],
      "execution_count": 0,
      "outputs": []
    },
    {
      "cell_type": "code",
      "metadata": {
        "id": "Xp-6Dz5supHp",
        "colab_type": "code",
        "colab": {
          "base_uri": "https://localhost:8080/",
          "height": 425
        },
        "outputId": "28f64dfa-4cc6-469e-bbbf-ca83efcaae4b"
      },
      "source": [
        "# create a dataframe from extracted data\n",
        "df = pd.DataFrame(d1)\n",
        "print(df.shape)\n",
        "df.head(10)"
      ],
      "execution_count": 13,
      "outputs": [
        {
          "output_type": "stream",
          "text": [
            "(4776, 3)\n"
          ],
          "name": "stdout"
        },
        {
          "output_type": "execute_result",
          "data": {
            "text/html": [
              "<div>\n",
              "<style scoped>\n",
              "    .dataframe tbody tr th:only-of-type {\n",
              "        vertical-align: middle;\n",
              "    }\n",
              "\n",
              "    .dataframe tbody tr th {\n",
              "        vertical-align: top;\n",
              "    }\n",
              "\n",
              "    .dataframe thead th {\n",
              "        text-align: right;\n",
              "    }\n",
              "</style>\n",
              "<table border=\"1\" class=\"dataframe\">\n",
              "  <thead>\n",
              "    <tr style=\"text-align: right;\">\n",
              "      <th></th>\n",
              "      <th>paper_id</th>\n",
              "      <th>title</th>\n",
              "      <th>text</th>\n",
              "    </tr>\n",
              "  </thead>\n",
              "  <tbody>\n",
              "    <tr>\n",
              "      <th>0</th>\n",
              "      <td>5cf53c279192e23b92dd29e74cf9bdbb3b598244</td>\n",
              "      <td>Assessment of transport stress on cattle trave...</td>\n",
              "      <td>The effect of long-distance transport on cattl...</td>\n",
              "    </tr>\n",
              "    <tr>\n",
              "      <th>1</th>\n",
              "      <td>4ec7c4ec545371f4b8c4a40db7d28fc534674c39</td>\n",
              "      <td>Knowledge, Perceptions, and Self-reported Perf...</td>\n",
              "      <td>Health care-associated infections (HAIs) criti...</td>\n",
              "    </tr>\n",
              "    <tr>\n",
              "      <th>2</th>\n",
              "      <td>06f075e64c8861491ea4de2f98b606866f54a752</td>\n",
              "      <td>case report</td>\n",
              "      <td>M iddle east respiratory syndrome coronavirus ...</td>\n",
              "    </tr>\n",
              "    <tr>\n",
              "      <th>3</th>\n",
              "      <td>40c0532640a8bb9d9a0aac07d017d5982af33fdb</td>\n",
              "      <td>Mutation of the S and 3c genes in genomes of f...</td>\n",
              "      <td>same owner and referred to a veterinary hospit...</td>\n",
              "    </tr>\n",
              "    <tr>\n",
              "      <th>4</th>\n",
              "      <td>0e18097a83b2801c4865c72065b7933fa24face3</td>\n",
              "      <td>Nonproliferative and Proliferative Lesions of ...</td>\n",
              "      <td>The INHAND Project (International Harmonizatio...</td>\n",
              "    </tr>\n",
              "    <tr>\n",
              "      <th>5</th>\n",
              "      <td>83e5553035f500f4bcc4aeeaa41aa74ebf578567</td>\n",
              "      <td>A Single-Center Study of Viral Respiratory Tra...</td>\n",
              "      <td>Viral respiratory infections are among the mos...</td>\n",
              "    </tr>\n",
              "    <tr>\n",
              "      <th>6</th>\n",
              "      <td>47bd7df352db2b1b093566b04fc328d6f0292c1b</td>\n",
              "      <td>Comparison of fit factors among healthcare pro...</td>\n",
              "      <td>Healthcare providers are at risk of exposure t...</td>\n",
              "    </tr>\n",
              "    <tr>\n",
              "      <th>7</th>\n",
              "      <td>15d87194ff22d1a52809b2c2332aa3e11a6fcd4a</td>\n",
              "      <td>The Journal of Infectious Diseases High Enviro...</td>\n",
              "      <td>Hepatitis B virus (HBV) infection is a severe ...</td>\n",
              "    </tr>\n",
              "    <tr>\n",
              "      <th>8</th>\n",
              "      <td>5ab92ddf1bb39b6863b28e2e9946415f7a5adf34</td>\n",
              "      <td>A survey on infection control in emergency dep...</td>\n",
              "      <td>E MERGENCY DEPARTMENTS ARE the entrance to hos...</td>\n",
              "    </tr>\n",
              "    <tr>\n",
              "      <th>9</th>\n",
              "      <td>4fab9d6fcfd7daca9ed2e0f89c2433955d34e553</td>\n",
              "      <td>TITLE (PROVISIONAL) Geographical disparities i...</td>\n",
              "      <td>to specifically identify the presentation of t...</td>\n",
              "    </tr>\n",
              "  </tbody>\n",
              "</table>\n",
              "</div>"
            ],
            "text/plain": [
              "                                   paper_id  ...                                               text\n",
              "0  5cf53c279192e23b92dd29e74cf9bdbb3b598244  ...  The effect of long-distance transport on cattl...\n",
              "1  4ec7c4ec545371f4b8c4a40db7d28fc534674c39  ...  Health care-associated infections (HAIs) criti...\n",
              "2  06f075e64c8861491ea4de2f98b606866f54a752  ...  M iddle east respiratory syndrome coronavirus ...\n",
              "3  40c0532640a8bb9d9a0aac07d017d5982af33fdb  ...  same owner and referred to a veterinary hospit...\n",
              "4  0e18097a83b2801c4865c72065b7933fa24face3  ...  The INHAND Project (International Harmonizatio...\n",
              "5  83e5553035f500f4bcc4aeeaa41aa74ebf578567  ...  Viral respiratory infections are among the mos...\n",
              "6  47bd7df352db2b1b093566b04fc328d6f0292c1b  ...  Healthcare providers are at risk of exposure t...\n",
              "7  15d87194ff22d1a52809b2c2332aa3e11a6fcd4a  ...  Hepatitis B virus (HBV) infection is a severe ...\n",
              "8  5ab92ddf1bb39b6863b28e2e9946415f7a5adf34  ...  E MERGENCY DEPARTMENTS ARE the entrance to hos...\n",
              "9  4fab9d6fcfd7daca9ed2e0f89c2433955d34e553  ...  to specifically identify the presentation of t...\n",
              "\n",
              "[10 rows x 3 columns]"
            ]
          },
          "metadata": {
            "tags": []
          },
          "execution_count": 13
        }
      ]
    },
    {
      "cell_type": "code",
      "metadata": {
        "id": "S3F8hGqcu3j_",
        "colab_type": "code",
        "colab": {}
      },
      "source": [
        "# save dataframe to a sqlite db.\n",
        "from sqlalchemy import create_engine\n",
        "engine = create_engine('sqlite:///../content/drive/My Drive/ML data/ai2_research_data.db')\n",
        "df.to_sql('research_data', engine, index=False, if_exists='replace')"
      ],
      "execution_count": 0,
      "outputs": []
    }
  ]
}