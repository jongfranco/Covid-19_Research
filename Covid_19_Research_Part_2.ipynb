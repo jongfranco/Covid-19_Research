{
  "nbformat": 4,
  "nbformat_minor": 0,
  "metadata": {
    "colab": {
      "name": "Covid-19 Research Part-2.ipynb",
      "provenance": [],
      "machine_shape": "hm",
      "mount_file_id": "1rhoq7OHBUFToD5L6I2gOcWkSPfU2Iizz",
      "authorship_tag": "ABX9TyPVzQR366TSVk5u9lxDC+8a",
      "include_colab_link": true
    },
    "kernelspec": {
      "name": "python3",
      "display_name": "Python 3"
    },
    "accelerator": "GPU"
  },
  "cells": [
    {
      "cell_type": "markdown",
      "metadata": {
        "id": "view-in-github",
        "colab_type": "text"
      },
      "source": [
        "<a href=\"https://colab.research.google.com/github/nikyan/Covid-19_Research/blob/master/Covid_19_Research_Part_2.ipynb\" target=\"_parent\"><img src=\"https://colab.research.google.com/assets/colab-badge.svg\" alt=\"Open In Colab\"/></a>"
      ]
    },
    {
      "cell_type": "markdown",
      "metadata": {
        "id": "-_9fVEiLYxid",
        "colab_type": "text"
      },
      "source": [
        "## Import Libraries"
      ]
    },
    {
      "cell_type": "code",
      "metadata": {
        "id": "duBNMUpGY51g",
        "colab_type": "code",
        "colab": {}
      },
      "source": [
        "# import libraries\n",
        "import os\n",
        "import pandas as pd\n",
        "import numpy as np\n",
        "from sqlalchemy import create_engine\n",
        "import re\n",
        "import pickle\n",
        "import json\n",
        "from itertools import *\n",
        "\n",
        "\n",
        "from gensim.corpora import Dictionary\n",
        "from gensim.models.ldamulticore import LdaMulticore\n",
        "from gensim.matutils import softcossim\n",
        "\n",
        "import matplotlib.pyplot as plt\n",
        "import matplotlib.colors as mcolors\n",
        "from collections import Counter\n",
        "import seaborn as sns\n",
        "\n",
        "%matplotlib inline"
      ],
      "execution_count": 0,
      "outputs": []
    },
    {
      "cell_type": "code",
      "metadata": {
        "id": "n871yNoNY9Gk",
        "colab_type": "code",
        "outputId": "a5c5f013-7027-4ae3-9a47-29d18972d91b",
        "colab": {
          "base_uri": "https://localhost:8080/",
          "height": 204
        }
      },
      "source": [
        "from nltk.tokenize import word_tokenize\n",
        "from nltk.stem import WordNetLemmatizer\n",
        "from nltk.util import ngrams\n",
        "import nltk\n",
        "nltk.download(['punkt', 'wordnet', 'averaged_perceptron_tagger', 'stopwords'])"
      ],
      "execution_count": 155,
      "outputs": [
        {
          "output_type": "stream",
          "text": [
            "[nltk_data] Downloading package punkt to /root/nltk_data...\n",
            "[nltk_data]   Package punkt is already up-to-date!\n",
            "[nltk_data] Downloading package wordnet to /root/nltk_data...\n",
            "[nltk_data]   Package wordnet is already up-to-date!\n",
            "[nltk_data] Downloading package averaged_perceptron_tagger to\n",
            "[nltk_data]     /root/nltk_data...\n",
            "[nltk_data]   Package averaged_perceptron_tagger is already up-to-\n",
            "[nltk_data]       date!\n",
            "[nltk_data] Downloading package stopwords to /root/nltk_data...\n",
            "[nltk_data]   Package stopwords is already up-to-date!\n"
          ],
          "name": "stdout"
        },
        {
          "output_type": "execute_result",
          "data": {
            "text/plain": [
              "True"
            ]
          },
          "metadata": {
            "tags": []
          },
          "execution_count": 155
        }
      ]
    },
    {
      "cell_type": "markdown",
      "metadata": {
        "id": "sWJsCy-1ZApa",
        "colab_type": "text"
      },
      "source": [
        "## Load Data"
      ]
    },
    {
      "cell_type": "code",
      "metadata": {
        "id": "BLBuV17fZF10",
        "colab_type": "code",
        "colab": {}
      },
      "source": [
        "# load data from database\n",
        "def load_data():\n",
        "    engine = create_engine('sqlite:///../content/drive/My Drive/ML data/ai2_research_data.db')\n",
        "    df = pd.read_sql_table('research_data', engine)\n",
        "    return df\n",
        "\n",
        "    #/content/drive/My Drive/ML data/ai2_research_data.db"
      ],
      "execution_count": 0,
      "outputs": []
    },
    {
      "cell_type": "code",
      "metadata": {
        "id": "tuwYhJpuZQ8L",
        "colab_type": "code",
        "outputId": "d97eaa43-7c97-472d-fa24-47fa535e63c6",
        "colab": {
          "base_uri": "https://localhost:8080/",
          "height": 128
        }
      },
      "source": [
        "df = load_data()\n",
        "print(df.shape)\n",
        "df.head(2)"
      ],
      "execution_count": 157,
      "outputs": [
        {
          "output_type": "stream",
          "text": [
            "(4776, 3)\n"
          ],
          "name": "stdout"
        },
        {
          "output_type": "execute_result",
          "data": {
            "text/html": [
              "<div>\n",
              "<style scoped>\n",
              "    .dataframe tbody tr th:only-of-type {\n",
              "        vertical-align: middle;\n",
              "    }\n",
              "\n",
              "    .dataframe tbody tr th {\n",
              "        vertical-align: top;\n",
              "    }\n",
              "\n",
              "    .dataframe thead th {\n",
              "        text-align: right;\n",
              "    }\n",
              "</style>\n",
              "<table border=\"1\" class=\"dataframe\">\n",
              "  <thead>\n",
              "    <tr style=\"text-align: right;\">\n",
              "      <th></th>\n",
              "      <th>paper_id</th>\n",
              "      <th>title</th>\n",
              "      <th>text</th>\n",
              "    </tr>\n",
              "  </thead>\n",
              "  <tbody>\n",
              "    <tr>\n",
              "      <th>0</th>\n",
              "      <td>0036b28fddf7e93da0970303672934ea2f9944e7</td>\n",
              "      <td>The fecal microbiota and unconjugated fecal bi...</td>\n",
              "      <td>human type 1 DM. The aim of this study was to ...</td>\n",
              "    </tr>\n",
              "    <tr>\n",
              "      <th>1</th>\n",
              "      <td>004f0f69464edd5466a947da86d38cea9fe7e4fe</td>\n",
              "      <td>Human Pregnancy Specific Beta-1-Glycoprotein 1...</td>\n",
              "      <td>Pregnancy specific beta-1-glycoproteins (PSGs)...</td>\n",
              "    </tr>\n",
              "  </tbody>\n",
              "</table>\n",
              "</div>"
            ],
            "text/plain": [
              "                                   paper_id  ...                                               text\n",
              "0  0036b28fddf7e93da0970303672934ea2f9944e7  ...  human type 1 DM. The aim of this study was to ...\n",
              "1  004f0f69464edd5466a947da86d38cea9fe7e4fe  ...  Pregnancy specific beta-1-glycoproteins (PSGs)...\n",
              "\n",
              "[2 rows x 3 columns]"
            ]
          },
          "metadata": {
            "tags": []
          },
          "execution_count": 157
        }
      ]
    },
    {
      "cell_type": "code",
      "metadata": {
        "id": "2ZLNldbogueh",
        "colab_type": "code",
        "colab": {}
      },
      "source": [
        "# # get NDC drug data\n",
        "# # https://www.fda.gov/drugs/drug-approvals-and-databases/national-drug-code-directory\n",
        "\n",
        "file1 = '../content/drive/My Drive/ML data/NDC Drug Data/package.txt'\n",
        "file2 = '../content/drive/My Drive/ML data/NDC Drug Data/product.txt'\n",
        "\n",
        "ndc_package = pd.read_table(file1)\n",
        "ndc_product = pd.read_table(file2, encoding = 'unicode_escape')"
      ],
      "execution_count": 0,
      "outputs": []
    },
    {
      "cell_type": "code",
      "metadata": {
        "id": "mOtwnTKX7tb-",
        "colab_type": "code",
        "colab": {}
      },
      "source": [
        "#df3 = ndc_product[(ndc_product.NONPROPRIETARYNAME.str.find('chloroquine') !=-1) & (ndc_product.NONPROPRIETARYNAME.notna())]"
      ],
      "execution_count": 0,
      "outputs": []
    },
    {
      "cell_type": "code",
      "metadata": {
        "id": "st6Ckc4L6W5j",
        "colab_type": "code",
        "outputId": "0ba0fb30-ff1a-4746-f9b2-04929ae61d50",
        "colab": {
          "base_uri": "https://localhost:8080/",
          "height": 547
        }
      },
      "source": [
        "ndc_product.head(5)"
      ],
      "execution_count": 160,
      "outputs": [
        {
          "output_type": "execute_result",
          "data": {
            "text/html": [
              "<div>\n",
              "<style scoped>\n",
              "    .dataframe tbody tr th:only-of-type {\n",
              "        vertical-align: middle;\n",
              "    }\n",
              "\n",
              "    .dataframe tbody tr th {\n",
              "        vertical-align: top;\n",
              "    }\n",
              "\n",
              "    .dataframe thead th {\n",
              "        text-align: right;\n",
              "    }\n",
              "</style>\n",
              "<table border=\"1\" class=\"dataframe\">\n",
              "  <thead>\n",
              "    <tr style=\"text-align: right;\">\n",
              "      <th></th>\n",
              "      <th>PRODUCTID</th>\n",
              "      <th>PRODUCTNDC</th>\n",
              "      <th>PRODUCTTYPENAME</th>\n",
              "      <th>PROPRIETARYNAME</th>\n",
              "      <th>PROPRIETARYNAMESUFFIX</th>\n",
              "      <th>NONPROPRIETARYNAME</th>\n",
              "      <th>DOSAGEFORMNAME</th>\n",
              "      <th>ROUTENAME</th>\n",
              "      <th>STARTMARKETINGDATE</th>\n",
              "      <th>ENDMARKETINGDATE</th>\n",
              "      <th>MARKETINGCATEGORYNAME</th>\n",
              "      <th>APPLICATIONNUMBER</th>\n",
              "      <th>LABELERNAME</th>\n",
              "      <th>SUBSTANCENAME</th>\n",
              "      <th>ACTIVE_NUMERATOR_STRENGTH</th>\n",
              "      <th>ACTIVE_INGRED_UNIT</th>\n",
              "      <th>PHARM_CLASSES</th>\n",
              "      <th>DEASCHEDULE</th>\n",
              "      <th>NDC_EXCLUDE_FLAG</th>\n",
              "      <th>LISTING_RECORD_CERTIFIED_THROUGH</th>\n",
              "    </tr>\n",
              "  </thead>\n",
              "  <tbody>\n",
              "    <tr>\n",
              "      <th>0</th>\n",
              "      <td>0002-0800_94c48759-29bb-402d-afff-9a713be11f0e</td>\n",
              "      <td>0002-0800</td>\n",
              "      <td>HUMAN OTC DRUG</td>\n",
              "      <td>Sterile Diluent</td>\n",
              "      <td>NaN</td>\n",
              "      <td>diluent</td>\n",
              "      <td>INJECTION, SOLUTION</td>\n",
              "      <td>SUBCUTANEOUS</td>\n",
              "      <td>19870710</td>\n",
              "      <td>NaN</td>\n",
              "      <td>NDA</td>\n",
              "      <td>NDA018781</td>\n",
              "      <td>Eli Lilly and Company</td>\n",
              "      <td>WATER</td>\n",
              "      <td>1</td>\n",
              "      <td>mL/mL</td>\n",
              "      <td>NaN</td>\n",
              "      <td>NaN</td>\n",
              "      <td>N</td>\n",
              "      <td>20201231.0</td>\n",
              "    </tr>\n",
              "    <tr>\n",
              "      <th>1</th>\n",
              "      <td>0002-1200_35551a38-7a8d-43b8-8abd-f6cb7549e932</td>\n",
              "      <td>0002-1200</td>\n",
              "      <td>HUMAN PRESCRIPTION DRUG</td>\n",
              "      <td>Amyvid</td>\n",
              "      <td>NaN</td>\n",
              "      <td>Florbetapir F 18</td>\n",
              "      <td>INJECTION, SOLUTION</td>\n",
              "      <td>INTRAVENOUS</td>\n",
              "      <td>20120601</td>\n",
              "      <td>NaN</td>\n",
              "      <td>NDA</td>\n",
              "      <td>NDA202008</td>\n",
              "      <td>Eli Lilly and Company</td>\n",
              "      <td>FLORBETAPIR F-18</td>\n",
              "      <td>51</td>\n",
              "      <td>mCi/mL</td>\n",
              "      <td>Radioactive Diagnostic Agent [EPC],Positron Em...</td>\n",
              "      <td>NaN</td>\n",
              "      <td>N</td>\n",
              "      <td>20211231.0</td>\n",
              "    </tr>\n",
              "    <tr>\n",
              "      <th>2</th>\n",
              "      <td>0002-1433_7aa69ac3-eb3d-4525-9ea0-9eea11babb5f</td>\n",
              "      <td>0002-1433</td>\n",
              "      <td>HUMAN PRESCRIPTION DRUG</td>\n",
              "      <td>Trulicity</td>\n",
              "      <td>NaN</td>\n",
              "      <td>Dulaglutide</td>\n",
              "      <td>INJECTION, SOLUTION</td>\n",
              "      <td>SUBCUTANEOUS</td>\n",
              "      <td>20140918</td>\n",
              "      <td>NaN</td>\n",
              "      <td>BLA</td>\n",
              "      <td>BLA125469</td>\n",
              "      <td>Eli Lilly and Company</td>\n",
              "      <td>DULAGLUTIDE</td>\n",
              "      <td>.75</td>\n",
              "      <td>mg/.5mL</td>\n",
              "      <td>GLP-1 Receptor Agonist [EPC],Glucagon-Like Pep...</td>\n",
              "      <td>NaN</td>\n",
              "      <td>N</td>\n",
              "      <td>20211231.0</td>\n",
              "    </tr>\n",
              "    <tr>\n",
              "      <th>3</th>\n",
              "      <td>0002-1434_7aa69ac3-eb3d-4525-9ea0-9eea11babb5f</td>\n",
              "      <td>0002-1434</td>\n",
              "      <td>HUMAN PRESCRIPTION DRUG</td>\n",
              "      <td>Trulicity</td>\n",
              "      <td>NaN</td>\n",
              "      <td>Dulaglutide</td>\n",
              "      <td>INJECTION, SOLUTION</td>\n",
              "      <td>SUBCUTANEOUS</td>\n",
              "      <td>20140918</td>\n",
              "      <td>NaN</td>\n",
              "      <td>BLA</td>\n",
              "      <td>BLA125469</td>\n",
              "      <td>Eli Lilly and Company</td>\n",
              "      <td>DULAGLUTIDE</td>\n",
              "      <td>1.5</td>\n",
              "      <td>mg/.5mL</td>\n",
              "      <td>GLP-1 Receptor Agonist [EPC],Glucagon-Like Pep...</td>\n",
              "      <td>NaN</td>\n",
              "      <td>N</td>\n",
              "      <td>20211231.0</td>\n",
              "    </tr>\n",
              "    <tr>\n",
              "      <th>4</th>\n",
              "      <td>0002-1436_dd7f66eb-66e1-4ad0-a593-417dbf2c74e2</td>\n",
              "      <td>0002-1436</td>\n",
              "      <td>HUMAN PRESCRIPTION DRUG</td>\n",
              "      <td>EMGALITY</td>\n",
              "      <td>NaN</td>\n",
              "      <td>galcanezumab</td>\n",
              "      <td>INJECTION, SOLUTION</td>\n",
              "      <td>SUBCUTANEOUS</td>\n",
              "      <td>20180927</td>\n",
              "      <td>NaN</td>\n",
              "      <td>BLA</td>\n",
              "      <td>BLA761063</td>\n",
              "      <td>Eli Lilly and Company</td>\n",
              "      <td>GALCANEZUMAB</td>\n",
              "      <td>120</td>\n",
              "      <td>mg/mL</td>\n",
              "      <td>NaN</td>\n",
              "      <td>NaN</td>\n",
              "      <td>N</td>\n",
              "      <td>20201231.0</td>\n",
              "    </tr>\n",
              "  </tbody>\n",
              "</table>\n",
              "</div>"
            ],
            "text/plain": [
              "                                        PRODUCTID  ... LISTING_RECORD_CERTIFIED_THROUGH\n",
              "0  0002-0800_94c48759-29bb-402d-afff-9a713be11f0e  ...                       20201231.0\n",
              "1  0002-1200_35551a38-7a8d-43b8-8abd-f6cb7549e932  ...                       20211231.0\n",
              "2  0002-1433_7aa69ac3-eb3d-4525-9ea0-9eea11babb5f  ...                       20211231.0\n",
              "3  0002-1434_7aa69ac3-eb3d-4525-9ea0-9eea11babb5f  ...                       20211231.0\n",
              "4  0002-1436_dd7f66eb-66e1-4ad0-a593-417dbf2c74e2  ...                       20201231.0\n",
              "\n",
              "[5 rows x 20 columns]"
            ]
          },
          "metadata": {
            "tags": []
          },
          "execution_count": 160
        }
      ]
    },
    {
      "cell_type": "markdown",
      "metadata": {
        "id": "LBwRCha9UBLf",
        "colab_type": "text"
      },
      "source": [
        "## Clean Research Paper data"
      ]
    },
    {
      "cell_type": "code",
      "metadata": {
        "id": "Il3FVXbFT3u-",
        "colab_type": "code",
        "colab": {}
      },
      "source": [
        "# remove punctuation\n",
        "def get_good_tokens(sentence):\n",
        "    replaced_punctation = list(map(lambda token: re.sub('[^0-9A-Za-z!?]+', '', token), sentence))\n",
        "    removed_punctation = list(filter(lambda token: token, replaced_punctation))\n",
        "    return removed_punctation\n",
        "\n",
        "# get tokenized text\n",
        "def lda_get_good_tokens(df):\n",
        "    df['original_text'] = df['text']\n",
        "    df['text'] = df.text.str.lower()\n",
        "    df['tokenized_text'] = list(map(nltk.word_tokenize, df.text))\n",
        "    df['tokenized_text'] = list(map(get_good_tokens, df.tokenized_text))\n",
        "\n",
        "lda_get_good_tokens(df)"
      ],
      "execution_count": 0,
      "outputs": []
    },
    {
      "cell_type": "code",
      "metadata": {
        "id": "jecqVxkzSqcf",
        "colab_type": "code",
        "outputId": "e8eef27c-1f8f-4a2d-f7de-831613b0b704",
        "colab": {
          "base_uri": "https://localhost:8080/",
          "height": 51
        }
      },
      "source": [
        "# creat a list of possible covide related terms\n",
        "# I will use this to filter out articles that have absolutely no mention of the covid-19 or related virus.\n",
        "#covidwords = ['covid', 'covid-19', 'corona', 'coronavirus', 'sars-cov-2', 'sarscov', 'mers', 'h1n1', 'cov', 'hcov']\n",
        "covidwords = ['covid', 'covid-19', 'cov', 'hcov']\n",
        "\n",
        "# identify papers with mention of corona virus or simiar virus such as sars, h1n1, mers\n",
        "def identify_corona_papers(df):\n",
        "    \"\"\" Identifies papers that have mention of corona virus based on a known set of words.\n",
        "    \"\"\"\n",
        "  \n",
        "    df['contains_corona'] = list(map(lambda doc:\n",
        "                                       [word for word in doc if word in covidwords],\n",
        "                                       df['tokenized_text']))\n",
        "    df['contains_corona'] = list(map(lambda doc: None if len(doc) == 0 else doc, df['contains_corona']))\n",
        "\n",
        "identify_corona_papers(df)\n",
        "# how many articles that don't have any mention of corona virus\n",
        "print(\"Articles that don't have any mention of corona virus: {}\".format(df.contains_corona.isnull().sum()))\n",
        "# filter out articles that have no mention of corona virus\n",
        "df = df[~df.contains_corona.isnull()]\n",
        "print(\"Articles left: {}\".format(df.shape[0]))"
      ],
      "execution_count": 162,
      "outputs": [
        {
          "output_type": "stream",
          "text": [
            "Articles that don't have any mention of corona virus: 4444\n",
            "Articles left: 332\n"
          ],
          "name": "stdout"
        }
      ]
    },
    {
      "cell_type": "code",
      "metadata": {
        "id": "EvcSerQke6gW",
        "colab_type": "code",
        "colab": {}
      },
      "source": [
        "# remove stop words\n",
        "def remove_stopwords(df):\n",
        "    \"\"\" Removes stopwords based on a known set of stopwords\n",
        "    available in the nltk package.\n",
        "    \"\"\"\n",
        "    # set of stopwords from nltk\n",
        "    stopwords = nltk.corpus.stopwords.words('english')\n",
        "\n",
        "    df['stopwords_removed'] = list(map(lambda doc:\n",
        "                                       [word for word in doc if word not in stopwords],\n",
        "                                       df['tokenized_text']))\n",
        "\n",
        "remove_stopwords(df)"
      ],
      "execution_count": 0,
      "outputs": []
    },
    {
      "cell_type": "code",
      "metadata": {
        "id": "00Tc4-xwF7k6",
        "colab_type": "code",
        "outputId": "90853dc9-2b3c-456d-9116-af2b051bfea4",
        "colab": {
          "base_uri": "https://localhost:8080/",
          "height": 34
        }
      },
      "source": [
        "# remove duplicates by title\n",
        "df.drop_duplicates(subset='title', keep='first', inplace=True)\n",
        "df.shape[0]"
      ],
      "execution_count": 164,
      "outputs": [
        {
          "output_type": "execute_result",
          "data": {
            "text/plain": [
              "228"
            ]
          },
          "metadata": {
            "tags": []
          },
          "execution_count": 164
        }
      ]
    },
    {
      "cell_type": "code",
      "metadata": {
        "id": "9EpqfNchqMmb",
        "colab_type": "code",
        "colab": {}
      },
      "source": [
        "# # Here we get transform the documents into sentences\n",
        "# def w2v_preprocessing(df):\n",
        "#     \"\"\" All the preprocessing steps for word2vec are done in this function.\n",
        "#     All mutations are done on the dataframe itself. So this function returns\n",
        "#     nothing.\n",
        "#     \"\"\"\n",
        "#     df['text'] = df.text.str.lower()\n",
        "#     df['document_sentences'] = df.text.str.split('.')  # split texts into individual sentences\n",
        "#     df['tokenized_sentences'] = list(map(lambda sentences:\n",
        "#                                          list(map(nltk.word_tokenize, sentences)),\n",
        "#                                          df.document_sentences))  # tokenize sentences\n",
        "#     df['tokenized_sentences'] = list(map(lambda sentences:\n",
        "#                                          list(map(get_good_tokens, sentences)),\n",
        "#                                          df.tokenized_sentences))  # remove unwanted characters\n",
        "#     df['tokenized_sentences'] = list(map(lambda sentences:\n",
        "#                                          list(filter(lambda lst: lst, sentences)),\n",
        "#                                          df.tokenized_sentences))  # remove empty lists\n",
        "\n",
        "# w2v_preprocessing(df)"
      ],
      "execution_count": 0,
      "outputs": []
    },
    {
      "cell_type": "markdown",
      "metadata": {
        "id": "eVz8tM4VL2oR",
        "colab_type": "text"
      },
      "source": [
        "## NDC Drug data clean up\n",
        "\n",
        "- create a dictionary of drug names from the NDC drug database"
      ]
    },
    {
      "cell_type": "code",
      "metadata": {
        "id": "di1a5swI0lMQ",
        "colab_type": "code",
        "colab": {}
      },
      "source": [
        "ndc_prod_lt = ndc_product['NONPROPRIETARYNAME'].str.lower()\n",
        "ndc_prod_lt = list(ndc_prod_lt.unique())"
      ],
      "execution_count": 0,
      "outputs": []
    },
    {
      "cell_type": "code",
      "metadata": {
        "id": "TXOXIIVCyVN4",
        "colab_type": "code",
        "outputId": "56034541-7576-4b5d-d932-673926c6fe99",
        "colab": {
          "base_uri": "https://localhost:8080/",
          "height": 34
        }
      },
      "source": [
        "# drug list clean up\n",
        "ndc_prod_list = []\n",
        "for words in ndc_prod_lt:\n",
        "  words = re.split(',', str(words))\n",
        "  ndc_prod_list.extend(words)\n",
        "\n",
        "#ndc_prod_list = [x.strip('and') for x in ndc_prod_list]\n",
        "ndc_prod_list = [re.sub('[^0-9A-Za-z!?]+', ' ', x) for x in ndc_prod_list]\n",
        "ndc_prod_list = [re.sub('and ','',x) for x in ndc_prod_list]\n",
        "ndc_prod_list = [x.strip(' ') for x in ndc_prod_list]\n",
        "len(ndc_prod_list)"
      ],
      "execution_count": 167,
      "outputs": [
        {
          "output_type": "execute_result",
          "data": {
            "text/plain": [
              "53049"
            ]
          },
          "metadata": {
            "tags": []
          },
          "execution_count": 167
        }
      ]
    },
    {
      "cell_type": "code",
      "metadata": {
        "id": "c1UIrfaryyAh",
        "colab_type": "code",
        "outputId": "e5cf26a5-f056-4ce7-ca48-3b5e646e3a0e",
        "colab": {
          "base_uri": "https://localhost:8080/",
          "height": 34
        }
      },
      "source": [
        "# remove duplicates\n",
        "ndc_prod_list = list(dict.fromkeys(ndc_prod_list))\n",
        "len(ndc_prod_list)"
      ],
      "execution_count": 168,
      "outputs": [
        {
          "output_type": "execute_result",
          "data": {
            "text/plain": [
              "12666"
            ]
          },
          "metadata": {
            "tags": []
          },
          "execution_count": 168
        }
      ]
    },
    {
      "cell_type": "code",
      "metadata": {
        "id": "wcYfaOGN_buo",
        "colab_type": "code",
        "colab": {}
      },
      "source": [
        "# remove words less than 2 in length\n",
        "ndc_prod_list = [s for s in ndc_prod_list if len(s) > 2]"
      ],
      "execution_count": 0,
      "outputs": []
    },
    {
      "cell_type": "code",
      "metadata": {
        "id": "ZsUfOKBArBly",
        "colab_type": "code",
        "colab": {}
      },
      "source": [
        "ndc_prod_list.append('remdesivir')\n",
        "ndc_prod_list.append('chloroquine')\n",
        "ndc_prod_list.append('umifenovir')\n",
        "ndc_prod_list.append('favipiravir')\n",
        "ndc_prod_list.append('lopinavir')\n",
        "ndc_prod_list.append('ritonavir')"
      ],
      "execution_count": 0,
      "outputs": []
    },
    {
      "cell_type": "code",
      "metadata": {
        "id": "OiYq_Ps9Gohi",
        "colab_type": "code",
        "outputId": "82ffdaab-4273-4586-b485-3ee5b763d251",
        "colab": {
          "base_uri": "https://localhost:8080/",
          "height": 34
        }
      },
      "source": [
        "# remove unwanted words from drug list\n",
        "unwanted_words = ['18 vaccine','live','oral','inactivated','sterile water','insulin human','human insulin',\n",
        "                  'water injection','insulin aspart injection','common','short','mixed','solution','none','gel']\n",
        "\n",
        "ndc_prod_list = [x for x in ndc_prod_list if x not in unwanted_words]\n",
        "len(ndc_prod_list)"
      ],
      "execution_count": 171,
      "outputs": [
        {
          "output_type": "execute_result",
          "data": {
            "text/plain": [
              "12624"
            ]
          },
          "metadata": {
            "tags": []
          },
          "execution_count": 171
        }
      ]
    },
    {
      "cell_type": "code",
      "metadata": {
        "id": "JNNhulssjXZJ",
        "colab_type": "code",
        "outputId": "e24ec791-6832-43e5-eb9f-ac5f98fabbf2",
        "colab": {
          "base_uri": "https://localhost:8080/",
          "height": 34
        }
      },
      "source": [
        "# test the list\n",
        "res = [k for k in ndc_prod_list if 'remdesivir' in k]\n",
        "res"
      ],
      "execution_count": 172,
      "outputs": [
        {
          "output_type": "execute_result",
          "data": {
            "text/plain": [
              "['remdesivir']"
            ]
          },
          "metadata": {
            "tags": []
          },
          "execution_count": 172
        }
      ]
    },
    {
      "cell_type": "markdown",
      "metadata": {
        "id": "8nLIF_MvaaOy",
        "colab_type": "text"
      },
      "source": [
        "## Research Data - Add matching Drug Data"
      ]
    },
    {
      "cell_type": "code",
      "metadata": {
        "id": "z7UtLJeMMQJ3",
        "colab_type": "code",
        "outputId": "fb940184-6471-403e-c5a3-5c1d453b4449",
        "colab": {
          "base_uri": "https://localhost:8080/",
          "height": 51
        }
      },
      "source": [
        "%%time\n",
        "df['match_words'] = list(map(lambda doc: [word for word in doc if word in ndc_prod_list], df.tokenized_text))"
      ],
      "execution_count": 173,
      "outputs": [
        {
          "output_type": "stream",
          "text": [
            "CPU times: user 3min 53s, sys: 15.4 ms, total: 3min 53s\n",
            "Wall time: 3min 53s\n"
          ],
          "name": "stdout"
        }
      ]
    },
    {
      "cell_type": "code",
      "metadata": {
        "id": "DuRSopM6NCVZ",
        "colab_type": "code",
        "colab": {}
      },
      "source": [
        "df['match_words_freq'] = list(map(lambda doc: Counter(doc), df.match_words))"
      ],
      "execution_count": 0,
      "outputs": []
    },
    {
      "cell_type": "code",
      "metadata": {
        "id": "uXJpIv5xjkAk",
        "colab_type": "code",
        "colab": {}
      },
      "source": [
        "# save a pickle file for later use.\n",
        "# filename = \"../content/drive/My Drive/ML data/research_drug_data.p\"\n",
        "# pickle.dump(df,open(filename, \"wb\"))"
      ],
      "execution_count": 0,
      "outputs": []
    },
    {
      "cell_type": "code",
      "metadata": {
        "id": "Fh6aR08Mj0Vh",
        "colab_type": "code",
        "colab": {}
      },
      "source": [
        "# Load pickle file with pre-processed data\n",
        "# filename = \"../content/drive/My Drive/ML data/research_drug_data.p\"\n",
        "# df = pickle.load(open(filename, \"rb\" ))"
      ],
      "execution_count": 0,
      "outputs": []
    },
    {
      "cell_type": "code",
      "metadata": {
        "id": "hZ992wxoK8GY",
        "colab_type": "code",
        "outputId": "85489f1f-b80c-4461-9793-a653bf581e08",
        "colab": {
          "base_uri": "https://localhost:8080/",
          "height": 213
        }
      },
      "source": [
        "df.head(2)"
      ],
      "execution_count": 177,
      "outputs": [
        {
          "output_type": "execute_result",
          "data": {
            "text/html": [
              "<div>\n",
              "<style scoped>\n",
              "    .dataframe tbody tr th:only-of-type {\n",
              "        vertical-align: middle;\n",
              "    }\n",
              "\n",
              "    .dataframe tbody tr th {\n",
              "        vertical-align: top;\n",
              "    }\n",
              "\n",
              "    .dataframe thead th {\n",
              "        text-align: right;\n",
              "    }\n",
              "</style>\n",
              "<table border=\"1\" class=\"dataframe\">\n",
              "  <thead>\n",
              "    <tr style=\"text-align: right;\">\n",
              "      <th></th>\n",
              "      <th>paper_id</th>\n",
              "      <th>title</th>\n",
              "      <th>text</th>\n",
              "      <th>original_text</th>\n",
              "      <th>tokenized_text</th>\n",
              "      <th>contains_corona</th>\n",
              "      <th>stopwords_removed</th>\n",
              "      <th>match_words</th>\n",
              "      <th>match_words_freq</th>\n",
              "    </tr>\n",
              "  </thead>\n",
              "  <tbody>\n",
              "    <tr>\n",
              "      <th>2</th>\n",
              "      <td>005c43980edf3fcc2a4d12ee7ad630ddb651ce6e</td>\n",
              "      <td>Development of a smartphone-based rapid dual f...</td>\n",
              "      <td>avian influenza (ai) viruses are distinct from...</td>\n",
              "      <td>Avian influenza (AI) viruses are distinct from...</td>\n",
              "      <td>[avian, influenza, ai, viruses, are, distinct,...</td>\n",
              "      <td>[cov, cov, cov]</td>\n",
              "      <td>[avian, influenza, ai, viruses, distinct, huma...</td>\n",
              "      <td>[gold, water, chicken, conjugated, mouse, coat...</td>\n",
              "      <td>{'gold': 1, 'water': 2, 'chicken': 2, 'conjuga...</td>\n",
              "    </tr>\n",
              "    <tr>\n",
              "      <th>32</th>\n",
              "      <td>0346cb9d0f5b07fe50d9a3cc0378a53f1a87708c</td>\n",
              "      <td>Statins May Decrease the Fatality Rate of Midd...</td>\n",
              "      <td>t he recent paper by totura and colleagues (1)...</td>\n",
              "      <td>T he recent paper by Totura and colleagues (1)...</td>\n",
              "      <td>[t, he, recent, paper, by, totura, and, collea...</td>\n",
              "      <td>[cov]</td>\n",
              "      <td>[recent, paper, totura, colleagues, 1, reveale...</td>\n",
              "      <td>[ribavirin, lead, celecoxib, mesalamine, cyclo...</td>\n",
              "      <td>{'ribavirin': 1, 'lead': 1, 'celecoxib': 1, 'm...</td>\n",
              "    </tr>\n",
              "  </tbody>\n",
              "</table>\n",
              "</div>"
            ],
            "text/plain": [
              "                                    paper_id  ...                                   match_words_freq\n",
              "2   005c43980edf3fcc2a4d12ee7ad630ddb651ce6e  ...  {'gold': 1, 'water': 2, 'chicken': 2, 'conjuga...\n",
              "32  0346cb9d0f5b07fe50d9a3cc0378a53f1a87708c  ...  {'ribavirin': 1, 'lead': 1, 'celecoxib': 1, 'm...\n",
              "\n",
              "[2 rows x 9 columns]"
            ]
          },
          "metadata": {
            "tags": []
          },
          "execution_count": 177
        }
      ]
    },
    {
      "cell_type": "markdown",
      "metadata": {
        "id": "yfWUEtKwPzpf",
        "colab_type": "text"
      },
      "source": [
        "## Analyze Drug Data"
      ]
    },
    {
      "cell_type": "code",
      "metadata": {
        "id": "Yzl56no9P3E3",
        "colab_type": "code",
        "colab": {}
      },
      "source": [
        "#view top word frequencies\n",
        "\n",
        "matched_only_dict = Counter(np.concatenate(df.match_words.values))\n",
        "matched_only_df = pd.DataFrame.from_dict(matched_only_dict, orient='index')\n",
        "matched_only_df.rename(columns={0: 'count'}, inplace=True)\n",
        "matched_only_df.sort_values('count', ascending=False, inplace=True)\n",
        "#matched_only_df.sort_values('count', ascending=True, inplace=True)"
      ],
      "execution_count": 0,
      "outputs": []
    },
    {
      "cell_type": "code",
      "metadata": {
        "id": "Go3xg4wKQWs7",
        "colab_type": "code",
        "outputId": "9c4214f6-8eab-4e66-ba6d-9c1a0b7a7af6",
        "colab": {
          "base_uri": "https://localhost:8080/",
          "height": 419
        }
      },
      "source": [
        "# function for word frequency \n",
        "def word_frequency_barplot(df, nr_top_words=50):\n",
        "    \"\"\" df should have a column named count.\n",
        "        returns a plot of word frequency.\n",
        "    \"\"\"\n",
        "    fig, ax = plt.subplots(1,1,figsize=(20,5))\n",
        "\n",
        "    sns.barplot(list(range(nr_top_words)), df['count'].values[:nr_top_words], palette='hls', ax=ax)\n",
        "\n",
        "    ax.set_xticks(list(range(nr_top_words)))\n",
        "    ax.set_xticklabels(df.index[:nr_top_words], fontsize=14, rotation=90)\n",
        "    return ax\n",
        "    \n",
        "ax = word_frequency_barplot(matched_only_df)\n",
        "ax.set_title(\"Word Frequencies\", fontsize=16);"
      ],
      "execution_count": 179,
      "outputs": [
        {
          "output_type": "display_data",
          "data": {
            "image/png": "[encoded data removed]",
            "text/plain": [
              "<Figure size 1440x360 with 1 Axes>"
            ]
          },
          "metadata": {
            "tags": [],
            "needs_background": "light"
          }
        }
      ]
    },
    {
      "cell_type": "code",
      "metadata": {
        "id": "8EqslCauQtOJ",
        "colab_type": "code",
        "colab": {
          "base_uri": "https://localhost:8080/",
          "height": 1000
        },
        "outputId": "558f75a6-2a1d-40ad-acbd-0db5717d9571"
      },
      "source": [
        "matched_only_df.head(50)"
      ],
      "execution_count": 180,
      "outputs": [
        {
          "output_type": "execute_result",
          "data": {
            "text/html": [
              "<div>\n",
              "<style scoped>\n",
              "    .dataframe tbody tr th:only-of-type {\n",
              "        vertical-align: middle;\n",
              "    }\n",
              "\n",
              "    .dataframe tbody tr th {\n",
              "        vertical-align: top;\n",
              "    }\n",
              "\n",
              "    .dataframe thead th {\n",
              "        text-align: right;\n",
              "    }\n",
              "</style>\n",
              "<table border=\"1\" class=\"dataframe\">\n",
              "  <thead>\n",
              "    <tr style=\"text-align: right;\">\n",
              "      <th></th>\n",
              "      <th>count</th>\n",
              "    </tr>\n",
              "  </thead>\n",
              "  <tbody>\n",
              "    <tr>\n",
              "      <th>rna</th>\n",
              "      <td>1240</td>\n",
              "    </tr>\n",
              "    <tr>\n",
              "      <th>lung</th>\n",
              "      <td>423</td>\n",
              "    </tr>\n",
              "    <tr>\n",
              "      <th>dna</th>\n",
              "      <td>388</td>\n",
              "    </tr>\n",
              "    <tr>\n",
              "      <th>kit</th>\n",
              "      <td>267</td>\n",
              "    </tr>\n",
              "    <tr>\n",
              "      <th>mouse</th>\n",
              "      <td>209</td>\n",
              "    </tr>\n",
              "    <tr>\n",
              "      <th>liver</th>\n",
              "      <td>174</td>\n",
              "    </tr>\n",
              "    <tr>\n",
              "      <th>nasal</th>\n",
              "      <td>162</td>\n",
              "    </tr>\n",
              "    <tr>\n",
              "      <th>ribavirin</th>\n",
              "      <td>161</td>\n",
              "    </tr>\n",
              "    <tr>\n",
              "      <th>purified</th>\n",
              "      <td>131</td>\n",
              "    </tr>\n",
              "    <tr>\n",
              "      <th>lead</th>\n",
              "      <td>129</td>\n",
              "    </tr>\n",
              "    <tr>\n",
              "      <th>recombinant</th>\n",
              "      <td>129</td>\n",
              "    </tr>\n",
              "    <tr>\n",
              "      <th>protease</th>\n",
              "      <td>122</td>\n",
              "    </tr>\n",
              "    <tr>\n",
              "      <th>water</th>\n",
              "      <td>102</td>\n",
              "    </tr>\n",
              "    <tr>\n",
              "      <th>scale</th>\n",
              "      <td>88</td>\n",
              "    </tr>\n",
              "    <tr>\n",
              "      <th>air</th>\n",
              "      <td>86</td>\n",
              "    </tr>\n",
              "    <tr>\n",
              "      <th>bovine</th>\n",
              "      <td>86</td>\n",
              "    </tr>\n",
              "    <tr>\n",
              "      <th>antibiotic</th>\n",
              "      <td>74</td>\n",
              "    </tr>\n",
              "    <tr>\n",
              "      <th>kidney</th>\n",
              "      <td>71</td>\n",
              "    </tr>\n",
              "    <tr>\n",
              "      <th>porcine</th>\n",
              "      <td>69</td>\n",
              "    </tr>\n",
              "    <tr>\n",
              "      <th>milk</th>\n",
              "      <td>62</td>\n",
              "    </tr>\n",
              "    <tr>\n",
              "      <th>palm</th>\n",
              "      <td>62</td>\n",
              "    </tr>\n",
              "    <tr>\n",
              "      <th>alpha</th>\n",
              "      <td>60</td>\n",
              "    </tr>\n",
              "    <tr>\n",
              "      <th>oxygen</th>\n",
              "      <td>54</td>\n",
              "    </tr>\n",
              "    <tr>\n",
              "      <th>muscle</th>\n",
              "      <td>54</td>\n",
              "    </tr>\n",
              "    <tr>\n",
              "      <th>chloroquine</th>\n",
              "      <td>49</td>\n",
              "    </tr>\n",
              "    <tr>\n",
              "      <th>rabbit</th>\n",
              "      <td>47</td>\n",
              "    </tr>\n",
              "    <tr>\n",
              "      <th>measles</th>\n",
              "      <td>46</td>\n",
              "    </tr>\n",
              "    <tr>\n",
              "      <th>lozenge</th>\n",
              "      <td>45</td>\n",
              "    </tr>\n",
              "    <tr>\n",
              "      <th>saline</th>\n",
              "      <td>45</td>\n",
              "    </tr>\n",
              "    <tr>\n",
              "      <th>insulin</th>\n",
              "      <td>44</td>\n",
              "    </tr>\n",
              "    <tr>\n",
              "      <th>brain</th>\n",
              "      <td>44</td>\n",
              "    </tr>\n",
              "    <tr>\n",
              "      <th>xray</th>\n",
              "      <td>43</td>\n",
              "    </tr>\n",
              "    <tr>\n",
              "      <th>remdesivir</th>\n",
              "      <td>41</td>\n",
              "    </tr>\n",
              "    <tr>\n",
              "      <th>sodium</th>\n",
              "      <td>39</td>\n",
              "    </tr>\n",
              "    <tr>\n",
              "      <th>heart</th>\n",
              "      <td>38</td>\n",
              "    </tr>\n",
              "    <tr>\n",
              "      <th>yeast</th>\n",
              "      <td>38</td>\n",
              "    </tr>\n",
              "    <tr>\n",
              "      <th>glucose</th>\n",
              "      <td>34</td>\n",
              "    </tr>\n",
              "    <tr>\n",
              "      <th>atp</th>\n",
              "      <td>34</td>\n",
              "    </tr>\n",
              "    <tr>\n",
              "      <th>creatinine</th>\n",
              "      <td>29</td>\n",
              "    </tr>\n",
              "    <tr>\n",
              "      <th>oseltamivir</th>\n",
              "      <td>29</td>\n",
              "    </tr>\n",
              "    <tr>\n",
              "      <th>dog</th>\n",
              "      <td>28</td>\n",
              "    </tr>\n",
              "    <tr>\n",
              "      <th>gold</th>\n",
              "      <td>28</td>\n",
              "    </tr>\n",
              "    <tr>\n",
              "      <th>egg</th>\n",
              "      <td>27</td>\n",
              "    </tr>\n",
              "    <tr>\n",
              "      <th>posterior</th>\n",
              "      <td>27</td>\n",
              "    </tr>\n",
              "    <tr>\n",
              "      <th>cattle</th>\n",
              "      <td>26</td>\n",
              "    </tr>\n",
              "    <tr>\n",
              "      <th>lopinavir</th>\n",
              "      <td>26</td>\n",
              "    </tr>\n",
              "    <tr>\n",
              "      <th>bulk</th>\n",
              "      <td>25</td>\n",
              "    </tr>\n",
              "    <tr>\n",
              "      <th>standardized</th>\n",
              "      <td>24</td>\n",
              "    </tr>\n",
              "    <tr>\n",
              "      <th>alcohol</th>\n",
              "      <td>24</td>\n",
              "    </tr>\n",
              "    <tr>\n",
              "      <th>chicken</th>\n",
              "      <td>23</td>\n",
              "    </tr>\n",
              "  </tbody>\n",
              "</table>\n",
              "</div>"
            ],
            "text/plain": [
              "              count\n",
              "rna            1240\n",
              "lung            423\n",
              "dna             388\n",
              "kit             267\n",
              "mouse           209\n",
              "liver           174\n",
              "nasal           162\n",
              "ribavirin       161\n",
              "purified        131\n",
              "lead            129\n",
              "recombinant     129\n",
              "protease        122\n",
              "water           102\n",
              "scale            88\n",
              "air              86\n",
              "bovine           86\n",
              "antibiotic       74\n",
              "kidney           71\n",
              "porcine          69\n",
              "milk             62\n",
              "palm             62\n",
              "alpha            60\n",
              "oxygen           54\n",
              "muscle           54\n",
              "chloroquine      49\n",
              "rabbit           47\n",
              "measles          46\n",
              "lozenge          45\n",
              "saline           45\n",
              "insulin          44\n",
              "brain            44\n",
              "xray             43\n",
              "remdesivir       41\n",
              "sodium           39\n",
              "heart            38\n",
              "yeast            38\n",
              "glucose          34\n",
              "atp              34\n",
              "creatinine       29\n",
              "oseltamivir      29\n",
              "dog              28\n",
              "gold             28\n",
              "egg              27\n",
              "posterior        27\n",
              "cattle           26\n",
              "lopinavir        26\n",
              "bulk             25\n",
              "standardized     24\n",
              "alcohol          24\n",
              "chicken          23"
            ]
          },
          "metadata": {
            "tags": []
          },
          "execution_count": 180
        }
      ]
    },
    {
      "cell_type": "code",
      "metadata": {
        "id": "T-bWxmD3Rcnd",
        "colab_type": "code",
        "colab": {}
      },
      "source": [
        "# identify papers with mention of certain specific words\n",
        "def identify_specific_papers(df, searchwords):\n",
        "    \"\"\" Identifies papers that have mention of specific words.\n",
        "    \"\"\"\n",
        "    for idx, val in enumerate(searchwords):\n",
        "      df[val] = list(map(lambda doc:[word for word in doc if word in val], df['match_words']))\n",
        "      df[val] = list(map(lambda doc: len(doc), df[val]))\n",
        "    \n",
        "    return df"
      ],
      "execution_count": 0,
      "outputs": []
    },
    {
      "cell_type": "code",
      "metadata": {
        "id": "wvvIFtUNOkb8",
        "colab_type": "code",
        "colab": {}
      },
      "source": [
        "# From the word frequency chart we identify certain drugs which are used in treating viral diseases\n",
        "# We will focus our analysis on following drugs: 'remdesivir', 'ribavirin', 'chloroquine', 'oseltamivir', 'lopinavir'\n",
        "searchwords = ['remdesivir', 'ribavirin', 'chloroquine', 'oseltamivir', 'lopinavir']\n",
        "df_analysis = identify_specific_papers(df, searchwords)"
      ],
      "execution_count": 0,
      "outputs": []
    },
    {
      "cell_type": "code",
      "metadata": {
        "id": "ZhVklo85CQeg",
        "colab_type": "code",
        "colab": {}
      },
      "source": [
        "#df_analysis.sort_values(by=searchwords, axis=0, ascending=False, inplace=True)"
      ],
      "execution_count": 0,
      "outputs": []
    },
    {
      "cell_type": "code",
      "metadata": {
        "id": "PDorI_cP5vb4",
        "colab_type": "code",
        "outputId": "c61cdbf2-6664-4f3a-9d10-14b5f6c58d68",
        "colab": {
          "base_uri": "https://localhost:8080/",
          "height": 1000
        }
      },
      "source": [
        "df_analysis.head(20)"
      ],
      "execution_count": 184,
      "outputs": [
        {
          "output_type": "execute_result",
          "data": {
            "text/html": [
              "<div>\n",
              "<style scoped>\n",
              "    .dataframe tbody tr th:only-of-type {\n",
              "        vertical-align: middle;\n",
              "    }\n",
              "\n",
              "    .dataframe tbody tr th {\n",
              "        vertical-align: top;\n",
              "    }\n",
              "\n",
              "    .dataframe thead th {\n",
              "        text-align: right;\n",
              "    }\n",
              "</style>\n",
              "<table border=\"1\" class=\"dataframe\">\n",
              "  <thead>\n",
              "    <tr style=\"text-align: right;\">\n",
              "      <th></th>\n",
              "      <th>paper_id</th>\n",
              "      <th>title</th>\n",
              "      <th>text</th>\n",
              "      <th>original_text</th>\n",
              "      <th>tokenized_text</th>\n",
              "      <th>contains_corona</th>\n",
              "      <th>stopwords_removed</th>\n",
              "      <th>match_words</th>\n",
              "      <th>match_words_freq</th>\n",
              "      <th>remdesivir</th>\n",
              "      <th>ribavirin</th>\n",
              "      <th>chloroquine</th>\n",
              "      <th>oseltamivir</th>\n",
              "      <th>lopinavir</th>\n",
              "    </tr>\n",
              "  </thead>\n",
              "  <tbody>\n",
              "    <tr>\n",
              "      <th>2</th>\n",
              "      <td>005c43980edf3fcc2a4d12ee7ad630ddb651ce6e</td>\n",
              "      <td>Development of a smartphone-based rapid dual f...</td>\n",
              "      <td>avian influenza (ai) viruses are distinct from...</td>\n",
              "      <td>Avian influenza (AI) viruses are distinct from...</td>\n",
              "      <td>[avian, influenza, ai, viruses, are, distinct,...</td>\n",
              "      <td>[cov, cov, cov]</td>\n",
              "      <td>[avian, influenza, ai, viruses, distinct, huma...</td>\n",
              "      <td>[gold, water, chicken, conjugated, mouse, coat...</td>\n",
              "      <td>{'gold': 1, 'water': 2, 'chicken': 2, 'conjuga...</td>\n",
              "      <td>0</td>\n",
              "      <td>0</td>\n",
              "      <td>0</td>\n",
              "      <td>0</td>\n",
              "      <td>0</td>\n",
              "    </tr>\n",
              "    <tr>\n",
              "      <th>32</th>\n",
              "      <td>0346cb9d0f5b07fe50d9a3cc0378a53f1a87708c</td>\n",
              "      <td>Statins May Decrease the Fatality Rate of Midd...</td>\n",
              "      <td>t he recent paper by totura and colleagues (1)...</td>\n",
              "      <td>T he recent paper by Totura and colleagues (1)...</td>\n",
              "      <td>[t, he, recent, paper, by, totura, and, collea...</td>\n",
              "      <td>[cov]</td>\n",
              "      <td>[recent, paper, totura, colleagues, 1, reveale...</td>\n",
              "      <td>[ribavirin, lead, celecoxib, mesalamine, cyclo...</td>\n",
              "      <td>{'ribavirin': 1, 'lead': 1, 'celecoxib': 1, 'm...</td>\n",
              "      <td>0</td>\n",
              "      <td>1</td>\n",
              "      <td>0</td>\n",
              "      <td>0</td>\n",
              "      <td>0</td>\n",
              "    </tr>\n",
              "    <tr>\n",
              "      <th>50</th>\n",
              "      <td>0519d1d90353abf1d2a97d4fea15d24d48cf1fbd</td>\n",
              "      <td>Communicable Diseases and Outbreak Control REV...</td>\n",
              "      <td>infectious or communicable disease can be defi...</td>\n",
              "      <td>Infectious or communicable disease can be defi...</td>\n",
              "      <td>[infectious, or, communicable, disease, can, b...</td>\n",
              "      <td>[cov]</td>\n",
              "      <td>[infectious, communicable, disease, defined, i...</td>\n",
              "      <td>[alcohol, air, measles, air, measles, mumps, w...</td>\n",
              "      <td>{'alcohol': 1, 'air': 2, 'measles': 10, 'mumps...</td>\n",
              "      <td>0</td>\n",
              "      <td>0</td>\n",
              "      <td>0</td>\n",
              "      <td>0</td>\n",
              "      <td>0</td>\n",
              "    </tr>\n",
              "    <tr>\n",
              "      <th>63</th>\n",
              "      <td>05e5a2bca07922fe0bd52185f4ccaae1b8b154f6</td>\n",
              "      <td>A phylogenetically distinct Middle East respir...</td>\n",
              "      <td>since its first appearance in 2012, the middle...</td>\n",
              "      <td>Since its first appearance in 2012, the Middle...</td>\n",
              "      <td>[since, its, first, appearance, in, 2012, the,...</td>\n",
              "      <td>[cov]</td>\n",
              "      <td>[since, first, appearance, 2012, middle, east,...</td>\n",
              "      <td>[rna, milk, nasal, saline, sucrose, coated, na...</td>\n",
              "      <td>{'rna': 3, 'milk': 3, 'nasal': 9, 'saline': 1,...</td>\n",
              "      <td>0</td>\n",
              "      <td>0</td>\n",
              "      <td>0</td>\n",
              "      <td>0</td>\n",
              "      <td>0</td>\n",
              "    </tr>\n",
              "    <tr>\n",
              "      <th>80</th>\n",
              "      <td>08397cfd7c03fc339e42c1d4bb82449c54c7b111</td>\n",
              "      <td>What Has the COVID-19 Pandemic Taught Us so Fa...</td>\n",
              "      <td>as of today, march 30, 2020, when this editori...</td>\n",
              "      <td>As of today, March 30, 2020, when this Editori...</td>\n",
              "      <td>[as, of, today, march, 30, 2020, when, this, e...</td>\n",
              "      <td>[covid]</td>\n",
              "      <td>[today, march, 30, 2020, editorial, written, s...</td>\n",
              "      <td>[liver, liver, liver, tobacco, lung, tobacco, ...</td>\n",
              "      <td>{'liver': 35, 'tobacco': 3, 'lung': 2, 'alanin...</td>\n",
              "      <td>0</td>\n",
              "      <td>0</td>\n",
              "      <td>0</td>\n",
              "      <td>1</td>\n",
              "      <td>1</td>\n",
              "    </tr>\n",
              "    <tr>\n",
              "      <th>88</th>\n",
              "      <td>097e78073b154805e74de8245008ee3f91c24af2</td>\n",
              "      <td>Nucleosides for the treatment of respiratory R...</td>\n",
              "      <td>respiratory viral infections are a global heal...</td>\n",
              "      <td>Respiratory viral infections are a global heal...</td>\n",
              "      <td>[respiratory, viral, infections, are, a, globa...</td>\n",
              "      <td>[hcov, cov, hcov, cov, cov, cov, cov, cov, cov...</td>\n",
              "      <td>[respiratory, viral, infections, global, healt...</td>\n",
              "      <td>[rna, rna, rna, dna, rna, rna, nasal, nasal, l...</td>\n",
              "      <td>{'rna': 70, 'dna': 6, 'nasal': 4, 'lead': 2, '...</td>\n",
              "      <td>0</td>\n",
              "      <td>15</td>\n",
              "      <td>0</td>\n",
              "      <td>2</td>\n",
              "      <td>0</td>\n",
              "    </tr>\n",
              "    <tr>\n",
              "      <th>97</th>\n",
              "      <td>0a17c029515e527bfad8a67810ab82f4a3d6a299</td>\n",
              "      <td>The outbreak of COVID-19: An overview</td>\n",
              "      <td>in late december 2019, an outbreak of a myster...</td>\n",
              "      <td>In late December 2019, an outbreak of a myster...</td>\n",
              "      <td>[in, late, december, 2019, an, outbreak, of, a...</td>\n",
              "      <td>[cov, cov]</td>\n",
              "      <td>[late, december, 2019, outbreak, mysterious, p...</td>\n",
              "      <td>[rna, palm, dog, palm, nasal, muscle, rna, xra...</td>\n",
              "      <td>{'rna': 2, 'palm': 2, 'dog': 1, 'nasal': 1, 'm...</td>\n",
              "      <td>2</td>\n",
              "      <td>2</td>\n",
              "      <td>0</td>\n",
              "      <td>0</td>\n",
              "      <td>2</td>\n",
              "    </tr>\n",
              "    <tr>\n",
              "      <th>103</th>\n",
              "      <td>0a449e173239afb38816257e1a53811b47bf13f4</td>\n",
              "      <td></td>\n",
              "      <td>sion was diagnosed between 1 and 19 months aft...</td>\n",
              "      <td>sion was diagnosed between 1 and 19 months aft...</td>\n",
              "      <td>[sion, was, diagnosed, between, 1, and, 19, mo...</td>\n",
              "      <td>[cov]</td>\n",
              "      <td>[sion, diagnosed, 1, 19, months, discharge, eb...</td>\n",
              "      <td>[scale, scale, scale, alpha, scale]</td>\n",
              "      <td>{'scale': 4, 'alpha': 1}</td>\n",
              "      <td>0</td>\n",
              "      <td>0</td>\n",
              "      <td>0</td>\n",
              "      <td>0</td>\n",
              "      <td>0</td>\n",
              "    </tr>\n",
              "    <tr>\n",
              "      <th>105</th>\n",
              "      <td>0a92a878b6603cb88dfc8c597e2a84407a0059ab</td>\n",
              "      <td>Position Paper</td>\n",
              "      <td>the following joint position statement represe...</td>\n",
              "      <td>The following Joint Position Statement represe...</td>\n",
              "      <td>[the, following, joint, position, statement, r...</td>\n",
              "      <td>[covid]</td>\n",
              "      <td>[following, joint, position, statement, repres...</td>\n",
              "      <td>[scale, scale]</td>\n",
              "      <td>{'scale': 2}</td>\n",
              "      <td>0</td>\n",
              "      <td>0</td>\n",
              "      <td>0</td>\n",
              "      <td>0</td>\n",
              "      <td>0</td>\n",
              "    </tr>\n",
              "    <tr>\n",
              "      <th>131</th>\n",
              "      <td>0dc475f4419836c2dc352073498f56ae982170a0</td>\n",
              "      <td>Age-related prevalence of common upper respira...</td>\n",
              "      <td>upper respiratory tract infections (uris) can ...</td>\n",
              "      <td>Upper respiratory tract infections (URIs) can ...</td>\n",
              "      <td>[upper, respiratory, tract, infections, uris, ...</td>\n",
              "      <td>[hcov, hcov]</td>\n",
              "      <td>[upper, respiratory, tract, infections, uris, ...</td>\n",
              "      <td>[antibiotic, lung, rna]</td>\n",
              "      <td>{'antibiotic': 1, 'lung': 1, 'rna': 1}</td>\n",
              "      <td>0</td>\n",
              "      <td>0</td>\n",
              "      <td>0</td>\n",
              "      <td>0</td>\n",
              "      <td>0</td>\n",
              "    </tr>\n",
              "    <tr>\n",
              "      <th>138</th>\n",
              "      <td>0e2c97d34c8c6042f26cc11e83e1a2fbac521203</td>\n",
              "      <td>A Mouse Model for Betacoronavirus Subgroup 2c ...</td>\n",
              "      <td>acute respiratory syndrome coronavirus (sars-c...</td>\n",
              "      <td>acute respiratory syndrome coronavirus (SARS-C...</td>\n",
              "      <td>[acute, respiratory, syndrome, coronavirus, sa...</td>\n",
              "      <td>[cov, cov, cov, cov, cov, cov, cov, cov, cov, ...</td>\n",
              "      <td>[acute, respiratory, syndrome, coronavirus, sa...</td>\n",
              "      <td>[protease, mouse, recombinant, rna, recombinan...</td>\n",
              "      <td>{'protease': 4, 'mouse': 16, 'recombinant': 15...</td>\n",
              "      <td>0</td>\n",
              "      <td>0</td>\n",
              "      <td>0</td>\n",
              "      <td>0</td>\n",
              "      <td>0</td>\n",
              "    </tr>\n",
              "    <tr>\n",
              "      <th>156</th>\n",
              "      <td>102e8dd2d010be4e7f39f8e2d0c84190ee87d9e2</td>\n",
              "      <td>Next-Generation Sequencing Reveals HIV-1-Media...</td>\n",
              "      <td>t he hallmark of aids is the loss of cd4 ϩ t c...</td>\n",
              "      <td>T he hallmark of AIDS is the loss of CD4 ϩ T c...</td>\n",
              "      <td>[t, he, hallmark, of, aids, is, the, loss, of,...</td>\n",
              "      <td>[cov]</td>\n",
              "      <td>[hallmark, aids, loss, cd4, cells, primary, ta...</td>\n",
              "      <td>[cholesterol, lymph, rna, rna, rna, rna, rna, ...</td>\n",
              "      <td>{'cholesterol': 1, 'lymph': 1, 'rna': 47, 'bul...</td>\n",
              "      <td>0</td>\n",
              "      <td>0</td>\n",
              "      <td>0</td>\n",
              "      <td>0</td>\n",
              "      <td>0</td>\n",
              "    </tr>\n",
              "    <tr>\n",
              "      <th>163</th>\n",
              "      <td>11217ee4e2bcf58f21011db8ff3d166aad2691ca</td>\n",
              "      <td>Article Fast Track How and Why Overcome the Im...</td>\n",
              "      <td>the hipposideridae, commonly known as the old ...</td>\n",
              "      <td>The Hipposideridae, commonly known as the Old ...</td>\n",
              "      <td>[the, hipposideridae, commonly, known, as, the...</td>\n",
              "      <td>[cov]</td>\n",
              "      <td>[hipposideridae, commonly, known, old, world, ...</td>\n",
              "      <td>[bell, bell, posterior, posterior, posterior, ...</td>\n",
              "      <td>{'bell': 3, 'posterior': 10, 'bdnf': 1, 'dna':...</td>\n",
              "      <td>0</td>\n",
              "      <td>0</td>\n",
              "      <td>0</td>\n",
              "      <td>0</td>\n",
              "      <td>0</td>\n",
              "    </tr>\n",
              "    <tr>\n",
              "      <th>165</th>\n",
              "      <td>1159168491ecb042542e33a3a6af1e60f32b0be2</td>\n",
              "      <td>A pandemic risk assessment of middle east resp...</td>\n",
              "      <td>middle east respiratory syndrome (mers) has be...</td>\n",
              "      <td>Middle East respiratory syndrome (MERS) has be...</td>\n",
              "      <td>[middle, east, respiratory, syndrome, mers, ha...</td>\n",
              "      <td>[cov]</td>\n",
              "      <td>[middle, east, respiratory, syndrome, mers, be...</td>\n",
              "      <td>[posterior, lead, lead, cis]</td>\n",
              "      <td>{'posterior': 1, 'lead': 2, 'cis': 1}</td>\n",
              "      <td>0</td>\n",
              "      <td>0</td>\n",
              "      <td>0</td>\n",
              "      <td>0</td>\n",
              "      <td>0</td>\n",
              "    </tr>\n",
              "    <tr>\n",
              "      <th>168</th>\n",
              "      <td>11a6f813fa996f0baa670ecc66875602f971eef1</td>\n",
              "      <td>Cytomegalovirus pneumonia as the first manifes...</td>\n",
              "      <td>severe combined immunodeficiency (scid) is a g...</td>\n",
              "      <td>Severe combined immunodeficiency (SCID) is a g...</td>\n",
              "      <td>[severe, combined, immunodeficiency, scid, is,...</td>\n",
              "      <td>[hcov]</td>\n",
              "      <td>[severe, combined, immunodeficiency, scid, gro...</td>\n",
              "      <td>[lymph, lung, measles, mumps, bone, cytomegalo...</td>\n",
              "      <td>{'lymph': 1, 'lung': 2, 'measles': 2, 'mumps':...</td>\n",
              "      <td>0</td>\n",
              "      <td>0</td>\n",
              "      <td>0</td>\n",
              "      <td>0</td>\n",
              "      <td>0</td>\n",
              "    </tr>\n",
              "    <tr>\n",
              "      <th>176</th>\n",
              "      <td>129fe5d1e963bc655146edf42a382819deca0ce6</td>\n",
              "      <td>The European Respiratory Society course on acu...</td>\n",
              "      <td>acute respiratory infectious diseases are more...</td>\n",
              "      <td>Acute respiratory infectious diseases are more...</td>\n",
              "      <td>[acute, respiratory, infectious, diseases, are...</td>\n",
              "      <td>[cov, cov, cov]</td>\n",
              "      <td>[acute, respiratory, infectious, diseases, lik...</td>\n",
              "      <td>[lead]</td>\n",
              "      <td>{'lead': 1}</td>\n",
              "      <td>0</td>\n",
              "      <td>0</td>\n",
              "      <td>0</td>\n",
              "      <td>0</td>\n",
              "      <td>0</td>\n",
              "    </tr>\n",
              "    <tr>\n",
              "      <th>177</th>\n",
              "      <td>12b90b3a09c938535dbf8db6af029cba7994e2cc</td>\n",
              "      <td>Interactome Mapping: Using Protein Microarray ...</td>\n",
              "      <td>since the completion of major whole genome seq...</td>\n",
              "      <td>Since the completion of major whole genome seq...</td>\n",
              "      <td>[since, the, completion, of, major, whole, gen...</td>\n",
              "      <td>[cov]</td>\n",
              "      <td>[since, completion, major, whole, genome, sequ...</td>\n",
              "      <td>[dna, rna, purified, yeast, yeast, yeast, puri...</td>\n",
              "      <td>{'dna': 16, 'rna': 2, 'purified': 8, 'yeast': ...</td>\n",
              "      <td>0</td>\n",
              "      <td>0</td>\n",
              "      <td>0</td>\n",
              "      <td>0</td>\n",
              "      <td>0</td>\n",
              "    </tr>\n",
              "    <tr>\n",
              "      <th>181</th>\n",
              "      <td>1376526470f18216200ecd6c375d9913942fa362</td>\n",
              "      <td>Origin, Evolution, and Virulence of Porcine De...</td>\n",
              "      <td>the deltacoronavirus genus has been only recen...</td>\n",
              "      <td>The Deltacoronavirus genus has been only recen...</td>\n",
              "      <td>[the, deltacoronavirus, genus, has, been, only...</td>\n",
              "      <td>[cov, cov]</td>\n",
              "      <td>[deltacoronavirus, genus, recently, defined, g...</td>\n",
              "      <td>[porcine, liver, kidney, lung, rna, duodenum, ...</td>\n",
              "      <td>{'porcine': 10, 'liver': 4, 'kidney': 4, 'lung...</td>\n",
              "      <td>0</td>\n",
              "      <td>0</td>\n",
              "      <td>0</td>\n",
              "      <td>0</td>\n",
              "      <td>0</td>\n",
              "    </tr>\n",
              "    <tr>\n",
              "      <th>203</th>\n",
              "      <td>14e878a6400d8320e2c781a76edc4a14f4cec1df</td>\n",
              "      <td>Viral etiology of acute respiratory infections...</td>\n",
              "      <td>introduction. acute respiratory tract infectio...</td>\n",
              "      <td>Introduction. Acute respiratory tract infectio...</td>\n",
              "      <td>[introduction, acute, respiratory, tract, infe...</td>\n",
              "      <td>[cov, hcov, hcov]</td>\n",
              "      <td>[introduction, acute, respiratory, tract, infe...</td>\n",
              "      <td>[lead, antibiotic, kit, kit]</td>\n",
              "      <td>{'lead': 1, 'antibiotic': 1, 'kit': 2}</td>\n",
              "      <td>0</td>\n",
              "      <td>0</td>\n",
              "      <td>0</td>\n",
              "      <td>0</td>\n",
              "      <td>0</td>\n",
              "    </tr>\n",
              "    <tr>\n",
              "      <th>211</th>\n",
              "      <td>15a0a1f83c9f096d245ed2c77d96f3bdf0a2f95a</td>\n",
              "      <td>Absence of MERS-CoV antibodies in feral camels...</td>\n",
              "      <td>since the first detection and isolation of the...</td>\n",
              "      <td>Since the first detection and isolation of the...</td>\n",
              "      <td>[since, the, first, detection, and, isolation,...</td>\n",
              "      <td>[cov, cov, cov, cov, cov, cov, cov, cov, cov, ...</td>\n",
              "      <td>[since, first, detection, isolation, middle, e...</td>\n",
              "      <td>[palm, recombinant, recombinant, purified, mil...</td>\n",
              "      <td>{'palm': 1, 'recombinant': 2, 'purified': 1, '...</td>\n",
              "      <td>0</td>\n",
              "      <td>0</td>\n",
              "      <td>0</td>\n",
              "      <td>0</td>\n",
              "      <td>0</td>\n",
              "    </tr>\n",
              "  </tbody>\n",
              "</table>\n",
              "</div>"
            ],
            "text/plain": [
              "                                     paper_id  ... lopinavir\n",
              "2    005c43980edf3fcc2a4d12ee7ad630ddb651ce6e  ...         0\n",
              "32   0346cb9d0f5b07fe50d9a3cc0378a53f1a87708c  ...         0\n",
              "50   0519d1d90353abf1d2a97d4fea15d24d48cf1fbd  ...         0\n",
              "63   05e5a2bca07922fe0bd52185f4ccaae1b8b154f6  ...         0\n",
              "80   08397cfd7c03fc339e42c1d4bb82449c54c7b111  ...         1\n",
              "88   097e78073b154805e74de8245008ee3f91c24af2  ...         0\n",
              "97   0a17c029515e527bfad8a67810ab82f4a3d6a299  ...         2\n",
              "103  0a449e173239afb38816257e1a53811b47bf13f4  ...         0\n",
              "105  0a92a878b6603cb88dfc8c597e2a84407a0059ab  ...         0\n",
              "131  0dc475f4419836c2dc352073498f56ae982170a0  ...         0\n",
              "138  0e2c97d34c8c6042f26cc11e83e1a2fbac521203  ...         0\n",
              "156  102e8dd2d010be4e7f39f8e2d0c84190ee87d9e2  ...         0\n",
              "163  11217ee4e2bcf58f21011db8ff3d166aad2691ca  ...         0\n",
              "165  1159168491ecb042542e33a3a6af1e60f32b0be2  ...         0\n",
              "168  11a6f813fa996f0baa670ecc66875602f971eef1  ...         0\n",
              "176  129fe5d1e963bc655146edf42a382819deca0ce6  ...         0\n",
              "177  12b90b3a09c938535dbf8db6af029cba7994e2cc  ...         0\n",
              "181  1376526470f18216200ecd6c375d9913942fa362  ...         0\n",
              "203  14e878a6400d8320e2c781a76edc4a14f4cec1df  ...         0\n",
              "211  15a0a1f83c9f096d245ed2c77d96f3bdf0a2f95a  ...         0\n",
              "\n",
              "[20 rows x 14 columns]"
            ]
          },
          "metadata": {
            "tags": []
          },
          "execution_count": 184
        }
      ]
    },
    {
      "cell_type": "code",
      "metadata": {
        "id": "AAHaCAvmC3PW",
        "colab_type": "code",
        "colab": {}
      },
      "source": [
        "# get title of paper for a given list of paper_ids\n",
        "def get_paper_titles(paper_ids):\n",
        "    '''\n",
        "    INPUT\n",
        "    paper_ids - a list of paper_ids\n",
        "    OUTPUT\n",
        "    paper - a list of paper names associated with the paper_ids\n",
        "    \n",
        "    '''\n",
        "    paper_lst = list(df[df['paper_id'].isin(paper_ids)]['title'])\n",
        "   \n",
        "    return list(paper_lst)"
      ],
      "execution_count": 0,
      "outputs": []
    },
    {
      "cell_type": "code",
      "metadata": {
        "id": "tlasAMe-UZOd",
        "colab_type": "code",
        "colab": {}
      },
      "source": [
        "# get articles for specific keyword\n",
        "# Identify reasearch articles that contain mention of the certain drugs\n",
        "def get_papers_count(df, keyword):\n",
        "  '''\n",
        "    INPUT\n",
        "    df = dataframe with keywords as columns\n",
        "    keyword - a list of key words you want to search paper ids against\n",
        "    OUTPUT\n",
        "    paper - a dictionary of paper ids associated with each keyword\n",
        "  '''\n",
        "  paper_ids = {}\n",
        "  for val in keyword:\n",
        "    # sort to get research papers with highest occurence of these words first\n",
        "    df.sort_values(by=val, axis=0, ascending=False, inplace=True)\n",
        "    paper_ids.update({val: list(df[df[val] != 0].paper_id.values)})\n",
        "  return paper_ids"
      ],
      "execution_count": 0,
      "outputs": []
    },
    {
      "cell_type": "code",
      "metadata": {
        "id": "8ZsuKuF4vuFY",
        "colab_type": "code",
        "colab": {}
      },
      "source": [
        "# define drugs from word frequencies\n",
        "keyword = ['remdesivir', 'ribavirin', 'chloroquine', 'oseltamivir', 'lopinavir']\n",
        "drug_paper_ids = get_papers_count(df_analysis, keyword)"
      ],
      "execution_count": 0,
      "outputs": []
    },
    {
      "cell_type": "code",
      "metadata": {
        "id": "pkAqPpYuwRp5",
        "colab_type": "code",
        "outputId": "be01e8ea-5096-4f5d-9f60-49e293060194",
        "colab": {
          "base_uri": "https://localhost:8080/",
          "height": 306
        }
      },
      "source": [
        "# let's look title for each drug. Let's see from titles if we can identify duplicates\n",
        "paper_ids = drug_paper_ids['oseltamivir']\n",
        "get_paper_titles(paper_ids)"
      ],
      "execution_count": 188,
      "outputs": [
        {
          "output_type": "execute_result",
          "data": {
            "text/plain": [
              "['Middle East Respiratory Syndrome and Severe Acute Respiratory Syndrome: Current Therapeutic Options and Potential Targets for Novel Therapies',\n",
              " 'R E V I E W A R T I C L E Open Forum Infectious Diseases Coronavirus Disease 2019 Treatment: A Review of Early and Emerging Options',\n",
              " 'COVID-19 infection: Origin, transmission, and characteristics of human coronaviruses',\n",
              " \"What Has the COVID-19 Pandemic Taught Us so Far? Addressing the Problem from a Hepatologist's Perspective\",\n",
              " 'MERS-coronavirus: From discovery to intervention',\n",
              " 'Nucleosides for the treatment of respiratory RNA virus infections',\n",
              " 'Nucleosides for the treatment of respiratory RNA virus infections Introduction to respiratory infections caused by RNA viruses',\n",
              " 'Characteristics and Mechanism of Liver Injury in 2019 Coronavirus Disease',\n",
              " 'Respiratory Viral Infections after Hematopoietic Stem Cell Transplantation in Children',\n",
              " 'New Respiratory Viruses and the Elderly',\n",
              " 'IgY antibodies for the immunoprophylaxis and therapy of respiratory infections',\n",
              " 'Send Orders of Reprints at bspsaif@emirates.net.ae The Open Virology Journal',\n",
              " 'Middle East Respiratory Syndrome and Severe Acute Respiratory Syndrome: Current Therapeutic Options and Potential Targets for Novel Therapies HHS Public Access',\n",
              " 'Human Coronavirus-HKU1 Infection Among Adults in Cleveland, Ohio',\n",
              " 'Laboratory Detection of Respiratory Viruses by Automated Techniques',\n",
              " 'MERS-coronavirus: From discovery to intervention-NC-ND license (http://creativecommons.org/licenses/by-nc-nd/4.0/)',\n",
              " 'Probable person to person transmission of novel avian influenza A (H7N9) virus in Eastern China, 2013: epidemiological investigation']"
            ]
          },
          "metadata": {
            "tags": []
          },
          "execution_count": 188
        }
      ]
    },
    {
      "cell_type": "code",
      "metadata": {
        "id": "t8hNWrjyUbKy",
        "colab_type": "code",
        "colab": {}
      },
      "source": [
        "# manually remove duplicates by looking at titles for each drug.\n",
        "# 1. choloroquine: remove last paper id since it's duplicative.\n",
        "drug_paper_ids['chloroquine'].remove('496c9b4e424bc052895fd0c9446e14f565dcaae5')\n",
        "# 2. ribavirin\n",
        "drug_paper_ids['ribavirin'].remove('097e78073b154805e74de8245008ee3f91c24af2')\n",
        "# 3. oseltamivir\n",
        "drug_paper_ids['oseltamivir'].remove('097e78073b154805e74de8245008ee3f91c24af2')"
      ],
      "execution_count": 0,
      "outputs": []
    },
    {
      "cell_type": "code",
      "metadata": {
        "id": "Pgn9EI5XAdoX",
        "colab_type": "code",
        "colab": {}
      },
      "source": [
        "# Plot number of articles for each drug\n",
        "drug_paper_ids_count = {}\n",
        "for key, value in drug_paper_ids.items():\n",
        "  drug_paper_ids_count.update({key: len(value)})\n",
        "\n",
        "drug_paper_ids_df = pd.DataFrame.from_dict(drug_paper_ids_count, orient='index')\n",
        "drug_paper_ids_df.rename(columns={0: 'count'}, inplace=True)\n",
        "drug_paper_ids_df.sort_values('count', ascending=False, inplace=True)"
      ],
      "execution_count": 0,
      "outputs": []
    },
    {
      "cell_type": "code",
      "metadata": {
        "id": "qFXkzqJjAZKp",
        "colab_type": "code",
        "outputId": "e16cfa78-8c79-4821-989e-3f990cd30f7a",
        "colab": {
          "base_uri": "https://localhost:8080/",
          "height": 410
        }
      },
      "source": [
        "ax_drugs = word_frequency_barplot(drug_paper_ids_df, 5)\n",
        "ax_drugs.set_title(\"Number of Research Papers\", fontsize=16);"
      ],
      "execution_count": 191,
      "outputs": [
        {
          "output_type": "display_data",
          "data": {
            "image/png": "[encoded data removed]",
            "text/plain": [
              "<Figure size 1440x360 with 1 Axes>"
            ]
          },
          "metadata": {
            "tags": [],
            "needs_background": "light"
          }
        }
      ]
    },
    {
      "cell_type": "code",
      "metadata": {
        "id": "KEmaywSt03vF",
        "colab_type": "code",
        "colab": {}
      },
      "source": [
        ""
      ],
      "execution_count": 0,
      "outputs": []
    },
    {
      "cell_type": "code",
      "metadata": {
        "id": "oXlLd8u704QD",
        "colab_type": "code",
        "colab": {}
      },
      "source": [
        "# get sentences\n",
        "def get_sentences(df, ):\n",
        "    \"\"\" Split text into sentences.\n",
        "    All mutations are done on the dataframe itself. So this function returns\n",
        "    nothing.\n",
        "    \"\"\"\n",
        "    df['text'] = df.text.str.lower()\n",
        "    df['document_sentences'] = df.text.str.split('.')  # split texts into individual sentences"
      ],
      "execution_count": 0,
      "outputs": []
    },
    {
      "cell_type": "code",
      "metadata": {
        "id": "UKsi7-Gt4zJl",
        "colab_type": "code",
        "colab": {}
      },
      "source": [
        "def get_relevant_sentences(df, paper_id, searchword):\n",
        "  text = list(df.original_text[df['paper_id'] == paper_id].str.split('.'))\n",
        "  text = list(chain(*text))\n",
        "\n",
        "  # get list ids with occurence of search word\n",
        "  text_idx =[]\n",
        "  for idx, val in enumerate(text):\n",
        "    if searchword in val:\n",
        "      text_idx.append(idx)\n",
        "      print(idx)\n",
        "      print(val)\n",
        "\n",
        " \n",
        "  # print relevant text lines from first encountered word to last\n",
        "  # for i in range(min(text_idx),max(text_idx)+1,1):\n",
        "  #   print(text[i])\n"
      ],
      "execution_count": 0,
      "outputs": []
    },
    {
      "cell_type": "code",
      "metadata": {
        "id": "yn6D1MOl4dik",
        "colab_type": "code",
        "outputId": "ea60a655-28ee-458b-b9eb-90d584c7c74f",
        "colab": {
          "base_uri": "https://localhost:8080/",
          "height": 595
        }
      },
      "source": [
        "drug_paper_ids['ribavirin']"
      ],
      "execution_count": 194,
      "outputs": [
        {
          "output_type": "execute_result",
          "data": {
            "text/plain": [
              "['84c860b82c331e08dc0269ef951de3b53dee41d8',\n",
              " 'f9a3b2b8a17beb5d81c2111277d9645dc137dd32',\n",
              " 'PMC5890544',\n",
              " 'PMC6074560',\n",
              " '9e91991355bc76a376b379387983a5ac08f179ab',\n",
              " '248ab12f092b53d6482d828b1ec1b7a9d6a5e385',\n",
              " '372c5fab99bbe7f7862304f94bfaebd3c02f1e1c',\n",
              " 'PMC5454172',\n",
              " 'PMC5532318',\n",
              " '496c9b4e424bc052895fd0c9446e14f565dcaae5',\n",
              " 'PMC4611038',\n",
              " 'PMC4716277',\n",
              " 'c530c756cc04b3476f21b4edd5a6aa5f3d704745',\n",
              " '0a17c029515e527bfad8a67810ab82f4a3d6a299',\n",
              " '1fe9d44383ae2debf062555ea05a816dd3848a91',\n",
              " '7d23656771268d325fc276045ff002b7d0184e7b',\n",
              " 'de511623eb1661bfa9c81a2749c786d9cbc178ba',\n",
              " 'e6d882be4961d1bdd7507b4a29d86b650de0895d',\n",
              " 'f5b032ddcc2c69fa564eec3ac027060064d7b255',\n",
              " 'PMC6252006',\n",
              " 'bef1a1f01d8a818aa005fae2e3b52dc369a79aab',\n",
              " '3230a822ceaf337c5137d32e1505878910621991',\n",
              " 'PMC7140187',\n",
              " 'PMC4720805',\n",
              " '4edda548e89522b4df20e723e29c63f309857b10',\n",
              " 'PMC4155143',\n",
              " 'PMC5840604',\n",
              " 'PMC3522051',\n",
              " 'PMC4447251',\n",
              " '5d58ccdb0252429f7c74ece67b505a2afd7e08c9',\n",
              " '5daf138e225910628fdfea4f94b36a077392ef01',\n",
              " '0346cb9d0f5b07fe50d9a3cc0378a53f1a87708c',\n",
              " '24df3883c547f5976077bc7a924eec9ae8fa9e71',\n",
              " '71b1e5b3dcbccd130699fbbdbc537a66a24598bc']"
            ]
          },
          "metadata": {
            "tags": []
          },
          "execution_count": 194
        }
      ]
    },
    {
      "cell_type": "code",
      "metadata": {
        "id": "8xwFNYnuZbb8",
        "colab_type": "code",
        "outputId": "2a946051-69b9-4c22-bbfa-a9321331095d",
        "colab": {
          "base_uri": "https://localhost:8080/",
          "height": 105
        }
      },
      "source": [
        "# What could be the reason for highest number of articles for drug 'Ribavirin'.\n",
        "# Let's look at some of the sentences within the research paper that contains mention of 'Ribavirin'\n",
        "get_relevant_sentences(df_analysis, 'PMC5532318', 'ribavirin')"
      ],
      "execution_count": 195,
      "outputs": [
        {
          "output_type": "stream",
          "text": [
            "23\n",
            " A triple antiviral treatment regimen comprising subcutaneous pegylated interferon alpha-2a (180 µg per week for 2 weeks), high-dose oral ribavirin [2,000 mg loading dose, followed by 1,200 mg every 8 h (q8h) for 4 days and then 600 mg q8h for 4–6 days], and oral lopinavir/ritonavir (400 mg/100 mg q12h for 10 days) was administered to all patients regardless of disease severity, which was in accordance with the interim recommendations generated during the early period of the Korean MERS epidemic\n",
            "120\n",
            " These two patients both received pegylated interferon alpha-2a, ribavirin, and lopinavir/ritonavir to treat MERS-CoV\n"
          ],
          "name": "stdout"
        }
      ]
    },
    {
      "cell_type": "code",
      "metadata": {
        "id": "OXGY2JwPAC76",
        "colab_type": "code",
        "colab": {}
      },
      "source": [
        "# Let's create a subset of our original dataframe with only the articles containing 'Ribavirin'.\n",
        "\n",
        "def get_search_word(df, searchwords, drugid):\n",
        "  # subset dataframe for only those papers that have mentin of drugid\n",
        "  df = df[df['paper_id'].isin(drug_paper_ids[drugid])]\n",
        "  \n",
        "\n",
        "  # search for the text\n",
        "  df[searchwords] = list(map(lambda doc: [word for word in doc if word in searchwords], df['tokenized_text']))\n",
        "  # get the count\n",
        "  df[searchwords] = list(map(lambda doc: len(doc), df[searchwords]))\n",
        "\n",
        "  df.sort_values(by=[drugid,searchwords], axis=0, ascending=False, inplace=True)\n",
        "\n",
        "  return df[['paper_id', drugid, searchwords]]"
      ],
      "execution_count": 0,
      "outputs": []
    },
    {
      "cell_type": "code",
      "metadata": {
        "id": "RTbtnul5Dzwy",
        "colab_type": "code",
        "colab": {}
      },
      "source": [
        "df_analysis_ribavirin = get_search_word(df_analysis, 'mers', 'ribavirin')"
      ],
      "execution_count": 0,
      "outputs": []
    },
    {
      "cell_type": "code",
      "metadata": {
        "id": "QtkmYECXFm-8",
        "colab_type": "code",
        "colab": {
          "base_uri": "https://localhost:8080/",
          "height": 595
        },
        "outputId": "8d6eca6d-ef8c-41a3-dda4-e8f743b1ef36"
      },
      "source": [
        "# Plot count of occurrence of 'Mers' in research papers containing 'Ribavirin'.\n",
        "fig, ax = plt.subplots(1,1,figsize=(20,5))\n",
        "df_analysis_ribavirin.plot(x='paper_id', y=['ribavirin', 'mers'], ax = ax, kind=\"bar\")\n",
        "ax.set_title(\"Correlation between Ribavirin & Mers\", fontsize=16);\n",
        "plt.show()"
      ],
      "execution_count": 198,
      "outputs": [
        {
          "output_type": "display_data",
          "data": {
            "image/png": "[encoded data removed]",
            "text/plain": [
              "<Figure size 1440x360 with 1 Axes>"
            ]
          },
          "metadata": {
            "tags": [],
            "needs_background": "light"
          }
        }
      ]
    },
    {
      "cell_type": "code",
      "metadata": {
        "id": "AzYwPi_ZZqra",
        "colab_type": "code",
        "colab": {}
      },
      "source": [
        "# ribavirin observations:\n",
        "\n"
      ],
      "execution_count": 0,
      "outputs": []
    },
    {
      "cell_type": "code",
      "metadata": {
        "id": "PHfJv5LxSEio",
        "colab_type": "code",
        "colab": {
          "base_uri": "https://localhost:8080/",
          "height": 289
        },
        "outputId": "02fcb85b-1a01-4d52-ff9a-9411f0f491fc"
      },
      "source": [
        "# Now let's look at oseltamivir\n",
        "drug_paper_ids['oseltamivir']"
      ],
      "execution_count": 200,
      "outputs": [
        {
          "output_type": "execute_result",
          "data": {
            "text/plain": [
              "['248ab12f092b53d6482d828b1ec1b7a9d6a5e385',\n",
              " 'PMC3805478',\n",
              " 'PMC5890544',\n",
              " 'f394c17bf245ebbff60558cc2e70e53556aaa843',\n",
              " '372c5fab99bbe7f7862304f94bfaebd3c02f1e1c',\n",
              " '08397cfd7c03fc339e42c1d4bb82449c54c7b111',\n",
              " 'f5b032ddcc2c69fa564eec3ac027060064d7b255',\n",
              " 'fc1f4b62e7c63ec2a3536401ce6aea880dca8512',\n",
              " '3230a822ceaf337c5137d32e1505878910621991',\n",
              " 'f9a3b2b8a17beb5d81c2111277d9645dc137dd32',\n",
              " '2c0813f50214197ccbeae857bb05217ade8aae82',\n",
              " 'PMC3522051',\n",
              " '496c9b4e424bc052895fd0c9446e14f565dcaae5',\n",
              " 'PMC5454172',\n",
              " '84c860b82c331e08dc0269ef951de3b53dee41d8',\n",
              " '5daf138e225910628fdfea4f94b36a077392ef01']"
            ]
          },
          "metadata": {
            "tags": []
          },
          "execution_count": 200
        }
      ]
    },
    {
      "cell_type": "code",
      "metadata": {
        "id": "i-AD6bEvRmf_",
        "colab_type": "code",
        "colab": {
          "base_uri": "https://localhost:8080/",
          "height": 51
        },
        "outputId": "af9d82eb-2117-4201-bdde-9a5b828231cd"
      },
      "source": [
        "\n",
        "get_relevant_sentences(df_analysis, '496c9b4e424bc052895fd0c9446e14f565dcaae5', 'oseltamivir')"
      ],
      "execution_count": 201,
      "outputs": [
        {
          "output_type": "stream",
          "text": [
            "124\n",
            " Post-exposure prophylaxis using oseltamivir was shown to be effective in reducing influenza transmission during the 2009 H1N1 influenza outbreak in Singapore military camps [62] \n"
          ],
          "name": "stdout"
        }
      ]
    },
    {
      "cell_type": "code",
      "metadata": {
        "id": "cXPxYRSkOwTy",
        "colab_type": "code",
        "colab": {}
      },
      "source": [
        "# oseltamivir - mostly negative effect on covid-19\n",
        "# 'therefore, given the critical need for these agents in the management of influenza and concern for drug shortages with oseltamivir, these agents should be avoided in patients with covid-19 once influenza has been ruled out'\n",
        "# 'although treated with mechanical ventilation, broad spectrum antibiotics, oseltamivir, immunological therapy, and fluid resuscitation, she died of multi-organ failure and cardiac arrest on 24 april'\n",
        "# 'the approved drugs include zanamivir, oseltamivir, peramivir, and favipiravir (japan only) for influenza virus and palivizumab for rsv, all of which have limitations that prevent their widespread use in a therapeutic setting'\n",
        "# ' the use of antipyretics, such as paracetamol, and certain antivirals, like oseltamivir, lopinavir and ritonavir, for the management of covid-19 has been widely reported to be associated with the development of liver injury'\n"
      ],
      "execution_count": 0,
      "outputs": []
    },
    {
      "cell_type": "code",
      "metadata": {
        "id": "iZKVebHiS9Cl",
        "colab_type": "code",
        "colab": {
          "base_uri": "https://localhost:8080/",
          "height": 221
        },
        "outputId": "53ef4faa-b15b-448b-c51b-ef52e3a135be"
      },
      "source": [
        "# Now let's look at lopinavir\n",
        "drug_paper_ids['lopinavir']"
      ],
      "execution_count": 203,
      "outputs": [
        {
          "output_type": "execute_result",
          "data": {
            "text/plain": [
              "['84c860b82c331e08dc0269ef951de3b53dee41d8',\n",
              " '248ab12f092b53d6482d828b1ec1b7a9d6a5e385',\n",
              " '1fe9d44383ae2debf062555ea05a816dd3848a91',\n",
              " '0a17c029515e527bfad8a67810ab82f4a3d6a299',\n",
              " 'e6d2c030bb4bb71cae43fd29624e70872b1662a4',\n",
              " 'PMC4720805',\n",
              " 'PMC7097833',\n",
              " 'de511623eb1661bfa9c81a2749c786d9cbc178ba',\n",
              " 'PMC6252006',\n",
              " '5daf138e225910628fdfea4f94b36a077392ef01',\n",
              " '4edda548e89522b4df20e723e29c63f309857b10',\n",
              " '08397cfd7c03fc339e42c1d4bb82449c54c7b111']"
            ]
          },
          "metadata": {
            "tags": []
          },
          "execution_count": 203
        }
      ]
    },
    {
      "cell_type": "code",
      "metadata": {
        "id": "-N2DWu6eTD_5",
        "colab_type": "code",
        "colab": {
          "base_uri": "https://localhost:8080/",
          "height": 71
        },
        "outputId": "d468d07b-5631-4335-cc1b-aa6b998d3ce0"
      },
      "source": [
        "get_relevant_sentences(df_analysis, '4edda548e89522b4df20e723e29c63f309857b10', 'lopinavir')"
      ],
      "execution_count": 204,
      "outputs": [
        {
          "output_type": "stream",
          "text": [
            "160\n",
            "While there is no proven effective antiviral therapy against SARS-CoV (33), several molecules have in vitro antiviral activity, including ribavirin, lopinavir, and type I IFN, but their benefits for patients are unclear (33) \n"
          ],
          "name": "stdout"
        }
      ]
    },
    {
      "cell_type": "code",
      "metadata": {
        "id": "f_eyFoTlTOXQ",
        "colab_type": "code",
        "colab": {}
      },
      "source": [
        "# lopinavir observations:\n",
        "\n",
        "# 'the use of antipyretics, such as paracetamol, and certain antivirals, like oseltamivir, lopinavir and ritonavir, for the management of covid-19 has been widely reported to be associated with the development of liver injury'\n",
        "# 'cyclosporin a, and mycophenolic acid, chloroquine, chlorpromazine, loperamide, and lopinavir inhibit mers-cov growth in vitro but their activity on the human is yet to be established'\n",
        "# 'while there is no proven effective antiviral therapy against sars-cov (33), several molecules have in vitro antiviral activity, including ribavirin, lopinavir, and type i ifn, but their benefits for patients are unclear'\n"
      ],
      "execution_count": 0,
      "outputs": []
    },
    {
      "cell_type": "code",
      "metadata": {
        "id": "VGJQeRm7UR1u",
        "colab_type": "code",
        "colab": {
          "base_uri": "https://localhost:8080/",
          "height": 187
        },
        "outputId": "807e34fe-7383-4e66-adfa-2ca415e23ab9"
      },
      "source": [
        "# Now let's look at chloroquine\n",
        "drug_paper_ids['chloroquine']"
      ],
      "execution_count": 206,
      "outputs": [
        {
          "output_type": "execute_result",
          "data": {
            "text/plain": [
              "['248ab12f092b53d6482d828b1ec1b7a9d6a5e385',\n",
              " 'PMC7097833',\n",
              " '29d15895b6f3c6472f3bab820d6a99feefae60df',\n",
              " 'de511623eb1661bfa9c81a2749c786d9cbc178ba',\n",
              " 'PMC5454172',\n",
              " '84c860b82c331e08dc0269ef951de3b53dee41d8',\n",
              " 'PMC7117643',\n",
              " 'PMC6252006',\n",
              " 'c530c756cc04b3476f21b4edd5a6aa5f3d704745',\n",
              " '5daf138e225910628fdfea4f94b36a077392ef01']"
            ]
          },
          "metadata": {
            "tags": []
          },
          "execution_count": 206
        }
      ]
    },
    {
      "cell_type": "code",
      "metadata": {
        "id": "sACGihwDVIBP",
        "colab_type": "code",
        "colab": {
          "base_uri": "https://localhost:8080/",
          "height": 51
        },
        "outputId": "a0a4b77e-6feb-4f0a-e783-39ee8d75c75d"
      },
      "source": [
        "get_relevant_sentences(df_analysis, '5daf138e225910628fdfea4f94b36a077392ef01', 'chloroquine')"
      ],
      "execution_count": 207,
      "outputs": [
        {
          "output_type": "stream",
          "text": [
            "75\n",
            " Remdesivir only and in combination with chloroquine or interferon beta significantly blocked the SARS-CoV-2 replication and patients were declared as clinically recovered [46, 50, 52] \n"
          ],
          "name": "stdout"
        }
      ]
    },
    {
      "cell_type": "code",
      "metadata": {
        "id": "-E1ukk5tVIaR",
        "colab_type": "code",
        "colab": {}
      },
      "source": [
        "# chloroquine observations:\n",
        "\n",
        "# Negative:\n",
        "# 'the data from sars-cov-1 are encouraging, but this must be weighed against the inferior performance in mouse models against mers-cov, the less potent in vitro activity compared with remdesivir and chloroquine for sars-cov-1, and limited data suggesting no advantage over standard care for sars-cov-2'\n",
        "\n",
        "# Positive:\n",
        "# 'it acts by inhibiting viral polymerasea recent study exploring in-vitro activity of remdesivir and chloroquine has demonstrated efficacy of the drugs in inhibiting replication of sars-cov2'\n",
        "# 'chloroquine is another promising drug, an in vitro study on the timeof-addition assay in vero e6 cells demonstrated that chloroquine functioned at both entry and at post-entry stages of covid-19'\n",
        "# 'moreover, chloroquine and remdesivir were shown to effectively inhibit sars-cov-2 infection in vitro'\n",
        "# 'two research groups reported that both chloroquine and chlorpromazine have potential therapeutic antiviral activity'\n",
        "# 'the antimalarial agents, chloroquine (cq), amodiaquine, and mefloquine have activity against sars-cov and mers-cov in vitro, importantly, hydroxychloroquine, a cq derivate, may provide an alternative due to lower toxicity and similar pharmacology profile'\n",
        "# 'other phase iii agents being evaluated in combination therapy for viral pneumonia interestingly include the antimalarial hydroxychloroquine, based on promising in vitro data (clinicaltrials)' \n",
        "# 'chloroquine, in addition to its immunomodulating properties, has been shown to have antiviral activity at entry and post-entry stages of the sars-cov-2 infection'\n",
        "# 'also, chloroquine, interferon and protease inhibitors, such as ritonavir, lopinavir/ritonavir, reported being effective in inhibiting the virus invitro'\n",
        "# 'remdesivir only and in combination with chloroquine or interferon beta significantly blocked the sars-cov-2 replication and patients were declared as clinically recovered'\n",
        "\n",
        "# in-vitro\n",
        "# 'cyclosporin a, and mycophenolic acid, chloroquine, chlorpromazine, loperamide, and lopinavir inhibit mers-cov growth in vitro but their activity on the human is yet to be established'\n"
      ],
      "execution_count": 0,
      "outputs": []
    },
    {
      "cell_type": "code",
      "metadata": {
        "id": "AY3K0YTGV6ET",
        "colab_type": "code",
        "colab": {}
      },
      "source": [
        "# thus far, results from more than 100 patients have demonstrated that chloroquine phosphate is superior to the control treatment in inhibiting the exacerbation of pneumonia, improving lung imaging findings, promoting a virus-negative conversion, and shortening the disease course according to the news briefing\n",
        "# severe adverse reactions to chloroquine phosphate were not noted in the aforementioned patients\n",
        "# \"although this development has been encouraging, supply issues in the united states and cardiovascular toxicity concerns limit the use of chloroquine\n",
        "# as an alternative, hydroxychloroquine, a compound that differs from chloroquine only by a single hydroxyl group, has garnered interest\n",
        "# hydroxychloroquine is perceived as having better tolerability than chloroquine, which has led to long-term usage in rheumatological disorders\n",
        "# historically, very limited data were published assessing the activity of hydroxychloroquine against coronaviruses\n",
        " "
      ],
      "execution_count": 0,
      "outputs": []
    },
    {
      "cell_type": "code",
      "metadata": {
        "id": "exl0qPFwXe4o",
        "colab_type": "code",
        "colab": {
          "base_uri": "https://localhost:8080/",
          "height": 170
        },
        "outputId": "5a3d749c-2b3e-4df3-d5a5-28c86de54ae3"
      },
      "source": [
        "# Now let's look at remdesivir\n",
        "drug_paper_ids['remdesivir']"
      ],
      "execution_count": 210,
      "outputs": [
        {
          "output_type": "execute_result",
          "data": {
            "text/plain": [
              "['248ab12f092b53d6482d828b1ec1b7a9d6a5e385',\n",
              " 'PMC7097833',\n",
              " '5daf138e225910628fdfea4f94b36a077392ef01',\n",
              " 'de511623eb1661bfa9c81a2749c786d9cbc178ba',\n",
              " 'c530c756cc04b3476f21b4edd5a6aa5f3d704745',\n",
              " '29d15895b6f3c6472f3bab820d6a99feefae60df',\n",
              " '0a17c029515e527bfad8a67810ab82f4a3d6a299',\n",
              " 'PMC7117643',\n",
              " 'e6d2c030bb4bb71cae43fd29624e70872b1662a4']"
            ]
          },
          "metadata": {
            "tags": []
          },
          "execution_count": 210
        }
      ]
    },
    {
      "cell_type": "code",
      "metadata": {
        "id": "aYbK01w1Xgj7",
        "colab_type": "code",
        "colab": {
          "base_uri": "https://localhost:8080/",
          "height": 85
        },
        "outputId": "41138003-6a9d-4964-d3f3-3b498553283f"
      },
      "source": [
        "get_relevant_sentences(df_analysis, 'c530c756cc04b3476f21b4edd5a6aa5f3d704745', 'remdesivir')"
      ],
      "execution_count": 211,
      "outputs": [
        {
          "output_type": "stream",
          "text": [
            "12\n",
            "At the Phase III level, remdesivir, a viral RNA-dependent RNA polymerase inhibitor, is under investigation for mild and moderate SARS-CoV-2 (ClinicalTrials\n",
            "19\n",
            " It can enhance the antiviral activity of remdesivir and potentially serve as a synergizer of BSAAs [9] \n"
          ],
          "name": "stdout"
        }
      ]
    },
    {
      "cell_type": "code",
      "metadata": {
        "id": "FoN_gM7mXgXM",
        "colab_type": "code",
        "colab": {}
      },
      "source": [
        "# remdesivir observations:\n",
        "\n",
        "# Positive:\n",
        "# 'emerging clinical evidence and available in vitro data suggest remdesivir is a promising agent for the treatment of covid-19'\n",
        "# 'recent case report described the use of remdesivir, requested for compassionate use, in the first patients with covid-19 in the united states. two ongoing clinical randomized clinical trials in china are evaluating remdesivir for moderate and sever covid-19 infections'\n",
        "# 'at the phase iii level, remdesivir, a viral rna-dependent rna polymerase inhibitor, is under investigation for mild and moderate sars-cov-2'\n",
        "# 'moreover, chloroquine and remdesivir were shown to effectively inhibit sars-cov-2 infection in vitro'\n",
        "# 'initially, interferons-a nebulization, broad-spectrum antibiotics, and anti-viral drugs were used to reduce the viral load, however, only remdesivir has shown promising impact against the virus. remdesivir only and in combination with chloroquine or interferon beta significantly blocked the sars-cov-2 replication and patients were declared as clinically recovered'\n",
        "# 'in a case report on the first case of 2019-ncov in the united states administering remdesivir for compassionate use on day 11 after illness resulted in decreasing viral loads in nasopharyngeal and oropharyngeal samples and the patient's clinical condition improved'\n"
      ],
      "execution_count": 0,
      "outputs": []
    },
    {
      "cell_type": "code",
      "metadata": {
        "id": "JTBUBu5-USPJ",
        "colab_type": "code",
        "colab": {}
      },
      "source": [
        "# other observations:\n",
        "\n",
        "# 1. recommended dosage\n",
        "# 'the recommended dosage for sarscov- 2 infection is chloroquine 500 mg bid or hydroxychloroquine 200 mg bid for 10 days in combination with another antiviral agent (lopinavir/ritonavir or remdesivir)'\n",
        "\n",
        "# 2. Supply chain, demand\n",
        "# 'in the light of the possible shortage of lopinavir/ritonavir stocks due to the increasing prescriptions, we suggest the possible use of darunavir/ritonavir at the dosage of 600 mg ever 12 hours in replacement of lopinavir/ritonavir considering the similar mechanism of action and the optimal safety profile'\n"
      ],
      "execution_count": 0,
      "outputs": []
    },
    {
      "cell_type": "code",
      "metadata": {
        "id": "YSKNuhGRZMNs",
        "colab_type": "code",
        "colab": {}
      },
      "source": [
        "# search for specific words in sentences of specific paper_ids\n",
        "\n",
        "def get_sentences_keyword(df, paper_ids, drugid, keyword):\n",
        "\n",
        "  df = df[df['paper_id'].isin(drug_paper_ids[drugid])]\n",
        "\n",
        "  for idx in paper_ids:\n",
        "    print(get_relevant_sentences(df, idx, keyword))"
      ],
      "execution_count": 0,
      "outputs": []
    },
    {
      "cell_type": "code",
      "metadata": {
        "id": "46oZDz_2bguU",
        "colab_type": "code",
        "colab": {}
      },
      "source": [
        "#get_sentences_keyword(df_analysis, drug_paper_ids['remdesivir'], 'remdesivir', 'dose')"
      ],
      "execution_count": 0,
      "outputs": []
    }
  ]
}